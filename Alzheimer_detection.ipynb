{
 "cells": [
  {
   "cell_type": "code",
   "execution_count": 1,
   "metadata": {},
   "outputs": [],
   "source": [
    "import importlib\n",
    "import numpy as np\n",
    "import pandas as pd\n",
    "from sklearn.model_selection import train_test_split\n",
    "from sklearn.metrics import confusion_matrix, classification_report"
   ]
  },
  {
   "cell_type": "code",
   "execution_count": 2,
   "metadata": {},
   "outputs": [
    {
     "name": "stderr",
     "output_type": "stream",
     "text": [
      "2023-09-30 11:54:11.943276: I tensorflow/tsl/cuda/cudart_stub.cc:28] Could not find cuda drivers on your machine, GPU will not be used.\n",
      "2023-09-30 11:54:12.049980: E tensorflow/compiler/xla/stream_executor/cuda/cuda_dnn.cc:9342] Unable to register cuDNN factory: Attempting to register factory for plugin cuDNN when one has already been registered\n",
      "2023-09-30 11:54:12.050011: E tensorflow/compiler/xla/stream_executor/cuda/cuda_fft.cc:609] Unable to register cuFFT factory: Attempting to register factory for plugin cuFFT when one has already been registered\n",
      "2023-09-30 11:54:12.050502: E tensorflow/compiler/xla/stream_executor/cuda/cuda_blas.cc:1518] Unable to register cuBLAS factory: Attempting to register factory for plugin cuBLAS when one has already been registered\n",
      "2023-09-30 11:54:12.104635: I tensorflow/tsl/cuda/cudart_stub.cc:28] Could not find cuda drivers on your machine, GPU will not be used.\n",
      "2023-09-30 11:54:12.105505: I tensorflow/core/platform/cpu_feature_guard.cc:182] This TensorFlow binary is optimized to use available CPU instructions in performance-critical operations.\n",
      "To enable the following instructions: AVX2 FMA, in other operations, rebuild TensorFlow with the appropriate compiler flags.\n",
      "2023-09-30 11:54:13.182333: W tensorflow/compiler/tf2tensorrt/utils/py_utils.cc:38] TF-TRT Warning: Could not find TensorRT\n"
     ]
    }
   ],
   "source": [
    "from Utils import Preprocessing\n",
    "from Models import ANN_1"
   ]
  },
  {
   "cell_type": "code",
   "execution_count": 3,
   "metadata": {},
   "outputs": [
    {
     "data": {
      "text/plain": [
       "<module 'Models.ANN_1' from '/home/davide/Desktop/Alzheimer_detection/Alzheimer_detection/Models/ANN_1.py'>"
      ]
     },
     "execution_count": 3,
     "metadata": {},
     "output_type": "execute_result"
    }
   ],
   "source": [
    "importlib.reload(Preprocessing)\n",
    "importlib.reload(ANN_1)"
   ]
  },
  {
   "cell_type": "code",
   "execution_count": 4,
   "metadata": {},
   "outputs": [],
   "source": [
    "X_train = np.load('PCA_Data/X_train_pca_one_shot.npy')\n",
    "y_train = np.load('PCA_Data/y_train.npy')\n",
    "labels_list_train = np.load('PCA_Data/labels_list_train.npy')\n",
    "\n",
    "X_test = np.load('PCA_Data/X_test_pca_one_shot.npy')\n",
    "y_test = np.load('PCA_Data/y_test.npy')\n",
    "labels_list_test = np.load('PCA_Data/labels_list_test.npy')"
   ]
  },
  {
   "cell_type": "code",
   "execution_count": 5,
   "metadata": {},
   "outputs": [],
   "source": [
    "validation_percentage = 0.25\n",
    "X_val = X_train[int(1-validation_percentage * len(X_train)):]\n",
    "X_train = X_train[:int(1-validation_percentage * len(X_train))]\n",
    "y_val = y_train[int(1-validation_percentage * len(y_train)):]\n",
    "y_train = y_train[:int(1-validation_percentage * len(y_train))]\n",
    "labels_list_val = labels_list_train[int(1-validation_percentage * len(labels_list_train)):]\n",
    "labels_list_train = labels_list_train[:int(1-validation_percentage * len(labels_list_train))]"
   ]
  },
  {
   "cell_type": "code",
   "execution_count": 6,
   "metadata": {},
   "outputs": [
    {
     "data": {
      "text/plain": [
       "(3842, 693)"
      ]
     },
     "execution_count": 6,
     "metadata": {},
     "output_type": "execute_result"
    }
   ],
   "source": [
    "X_train.shape"
   ]
  },
  {
   "cell_type": "code",
   "execution_count": 7,
   "metadata": {},
   "outputs": [
    {
     "data": {
      "text/plain": [
       "(1279, 693)"
      ]
     },
     "execution_count": 7,
     "metadata": {},
     "output_type": "execute_result"
    }
   ],
   "source": [
    "X_val.shape"
   ]
  },
  {
   "cell_type": "code",
   "execution_count": 8,
   "metadata": {},
   "outputs": [
    {
     "data": {
      "text/plain": [
       "(array([0.        , 0.00888585, 0.05329445, 1.        ]),\n",
       " array([1946, 1336,  520,   40]))"
      ]
     },
     "execution_count": 8,
     "metadata": {},
     "output_type": "execute_result"
    }
   ],
   "source": [
    "np.unique(y_train, return_counts=True)"
   ]
  },
  {
   "cell_type": "code",
   "execution_count": 10,
   "metadata": {},
   "outputs": [],
   "source": [
    "img_height=41\n",
    "img_width=87"
   ]
  },
  {
   "cell_type": "code",
   "execution_count": 27,
   "metadata": {},
   "outputs": [
    {
     "name": "stdout",
     "output_type": "stream",
     "text": [
      "Model: \"model_4\"\n",
      "_________________________________________________________________\n",
      " Layer (type)                Output Shape              Param #   \n",
      "=================================================================\n",
      " input (InputLayer)          [(None, 693)]             0         \n",
      "                                                                 \n",
      " flatten_4 (Flatten)         (None, 693)               0         \n",
      "                                                                 \n",
      " dense_18 (Dense)            (None, 300)               208200    \n",
      "                                                                 \n",
      " dense_19 (Dense)            (None, 300)               90300     \n",
      "                                                                 \n",
      " output_class_regression (D  (None, 1)                 301       \n",
      " ense)                                                           \n",
      "                                                                 \n",
      "=================================================================\n",
      "Total params: 298801 (1.14 MB)\n",
      "Trainable params: 298801 (1.14 MB)\n",
      "Non-trainable params: 0 (0.00 Byte)\n",
      "_________________________________________________________________\n"
     ]
    }
   ],
   "source": [
    "importlib.reload(ANN_1)\n",
    "model = ANN_1.build_Model(input_shape=(693))\n",
    "model.summary()"
   ]
  },
  {
   "cell_type": "code",
   "execution_count": 28,
   "metadata": {},
   "outputs": [
    {
     "name": "stdout",
     "output_type": "stream",
     "text": [
      "Epoch 1/100\n",
      "121/121 [==============================] - 1s 9ms/step - loss: 0.1248 - val_loss: 0.0689\n",
      "Epoch 2/100\n",
      "121/121 [==============================] - 1s 7ms/step - loss: 0.0559 - val_loss: 0.0718\n",
      "Epoch 3/100\n",
      "121/121 [==============================] - 1s 7ms/step - loss: 0.0379 - val_loss: 0.0275\n",
      "Epoch 4/100\n",
      "121/121 [==============================] - 1s 6ms/step - loss: 0.0243 - val_loss: 0.0251\n",
      "Epoch 5/100\n",
      "121/121 [==============================] - 1s 6ms/step - loss: 0.0161 - val_loss: 0.0271\n",
      "Epoch 6/100\n",
      "121/121 [==============================] - 1s 7ms/step - loss: 0.0149 - val_loss: 0.0220\n",
      "Epoch 7/100\n",
      "121/121 [==============================] - 1s 7ms/step - loss: 0.0119 - val_loss: 0.0216\n",
      "Epoch 8/100\n",
      "121/121 [==============================] - 1s 6ms/step - loss: 0.0100 - val_loss: 0.0233\n",
      "Epoch 9/100\n",
      "121/121 [==============================] - 1s 6ms/step - loss: 0.0082 - val_loss: 0.0185\n",
      "Epoch 10/100\n",
      "121/121 [==============================] - 1s 7ms/step - loss: 0.0072 - val_loss: 0.0182\n",
      "Epoch 11/100\n",
      "121/121 [==============================] - 1s 7ms/step - loss: 0.0059 - val_loss: 0.0194\n",
      "Epoch 12/100\n",
      "121/121 [==============================] - 1s 7ms/step - loss: 0.0068 - val_loss: 0.0205\n",
      "Epoch 13/100\n",
      "121/121 [==============================] - 1s 7ms/step - loss: 0.0064 - val_loss: 0.0199\n",
      "Epoch 14/100\n",
      "121/121 [==============================] - 1s 7ms/step - loss: 0.0054 - val_loss: 0.0188\n",
      "Epoch 15/100\n",
      "121/121 [==============================] - 1s 7ms/step - loss: 0.0055 - val_loss: 0.0186\n",
      "Epoch 16/100\n",
      "121/121 [==============================] - 1s 6ms/step - loss: 0.0057 - val_loss: 0.0200\n",
      "Epoch 17/100\n",
      "121/121 [==============================] - 1s 7ms/step - loss: 0.0054 - val_loss: 0.0199\n",
      "Epoch 18/100\n",
      "121/121 [==============================] - 1s 7ms/step - loss: 0.0049 - val_loss: 0.0195\n",
      "Epoch 19/100\n",
      "121/121 [==============================] - 1s 6ms/step - loss: 0.0044 - val_loss: 0.0198\n",
      "Epoch 20/100\n",
      "121/121 [==============================] - 1s 6ms/step - loss: 0.0048 - val_loss: 0.0195\n",
      "Epoch 21/100\n",
      "121/121 [==============================] - 1s 7ms/step - loss: 0.0047 - val_loss: 0.0193\n",
      "Epoch 22/100\n",
      "121/121 [==============================] - 1s 7ms/step - loss: 0.0039 - val_loss: 0.0207\n",
      "Epoch 23/100\n",
      "121/121 [==============================] - 1s 6ms/step - loss: 0.0040 - val_loss: 0.0191\n",
      "Epoch 24/100\n",
      "121/121 [==============================] - 1s 6ms/step - loss: 0.0036 - val_loss: 0.0190\n",
      "Epoch 25/100\n",
      "121/121 [==============================] - 1s 6ms/step - loss: 0.0037 - val_loss: 0.0186\n",
      "Epoch 26/100\n",
      "121/121 [==============================] - 1s 7ms/step - loss: 0.0041 - val_loss: 0.0185\n",
      "Epoch 27/100\n",
      "121/121 [==============================] - 1s 6ms/step - loss: 0.0036 - val_loss: 0.0193\n",
      "Epoch 28/100\n",
      "121/121 [==============================] - 1s 7ms/step - loss: 0.0031 - val_loss: 0.0188\n",
      "Epoch 29/100\n",
      "121/121 [==============================] - 1s 6ms/step - loss: 0.0031 - val_loss: 0.0210\n",
      "Epoch 30/100\n",
      "121/121 [==============================] - 1s 6ms/step - loss: 0.0029 - val_loss: 0.0201\n",
      "Epoch 31/100\n",
      "121/121 [==============================] - 1s 7ms/step - loss: 0.0033 - val_loss: 0.0201\n",
      "Epoch 32/100\n",
      "121/121 [==============================] - 1s 7ms/step - loss: 0.0033 - val_loss: 0.0200\n",
      "Epoch 33/100\n",
      "121/121 [==============================] - 1s 6ms/step - loss: 0.0030 - val_loss: 0.0191\n",
      "Epoch 34/100\n",
      "121/121 [==============================] - 1s 7ms/step - loss: 0.0027 - val_loss: 0.0197\n",
      "Epoch 35/100\n",
      "121/121 [==============================] - 1s 6ms/step - loss: 0.0033 - val_loss: 0.0201\n",
      "Epoch 36/100\n",
      "121/121 [==============================] - 1s 7ms/step - loss: 0.0033 - val_loss: 0.0190\n",
      "Epoch 37/100\n",
      "121/121 [==============================] - 1s 6ms/step - loss: 0.0032 - val_loss: 0.0191\n",
      "Epoch 38/100\n",
      "121/121 [==============================] - 1s 7ms/step - loss: 0.0046 - val_loss: 0.0187\n",
      "Epoch 39/100\n",
      "121/121 [==============================] - 1s 6ms/step - loss: 0.0033 - val_loss: 0.0180\n",
      "Epoch 40/100\n",
      "121/121 [==============================] - 1s 7ms/step - loss: 0.0027 - val_loss: 0.0179\n",
      "Epoch 41/100\n",
      "121/121 [==============================] - 1s 7ms/step - loss: 0.0026 - val_loss: 0.0186\n",
      "Epoch 42/100\n",
      "121/121 [==============================] - 1s 7ms/step - loss: 0.0027 - val_loss: 0.0184\n",
      "Epoch 43/100\n",
      "121/121 [==============================] - 1s 6ms/step - loss: 0.0024 - val_loss: 0.0194\n",
      "Epoch 44/100\n",
      "121/121 [==============================] - 1s 7ms/step - loss: 0.0027 - val_loss: 0.0185\n",
      "Epoch 45/100\n",
      "121/121 [==============================] - 1s 6ms/step - loss: 0.0024 - val_loss: 0.0184\n",
      "Epoch 46/100\n",
      "121/121 [==============================] - 1s 7ms/step - loss: 0.0022 - val_loss: 0.0196\n",
      "Epoch 47/100\n",
      "121/121 [==============================] - 1s 7ms/step - loss: 0.0026 - val_loss: 0.0192\n",
      "Epoch 48/100\n",
      "121/121 [==============================] - 1s 7ms/step - loss: 0.0026 - val_loss: 0.0180\n",
      "Epoch 49/100\n",
      "121/121 [==============================] - 1s 7ms/step - loss: 0.0025 - val_loss: 0.0196\n",
      "Epoch 50/100\n",
      "121/121 [==============================] - 1s 6ms/step - loss: 0.0025 - val_loss: 0.0181\n",
      "Epoch 51/100\n",
      "121/121 [==============================] - 1s 6ms/step - loss: 0.0023 - val_loss: 0.0190\n",
      "Epoch 52/100\n",
      "121/121 [==============================] - 1s 7ms/step - loss: 0.0021 - val_loss: 0.0186\n",
      "Epoch 53/100\n",
      "121/121 [==============================] - 1s 6ms/step - loss: 0.0026 - val_loss: 0.0184\n",
      "Epoch 54/100\n",
      "121/121 [==============================] - 1s 7ms/step - loss: 0.0028 - val_loss: 0.0186\n",
      "Epoch 55/100\n",
      "121/121 [==============================] - 1s 6ms/step - loss: 0.0028 - val_loss: 0.0171\n",
      "Epoch 56/100\n",
      "121/121 [==============================] - 1s 6ms/step - loss: 0.0025 - val_loss: 0.0181\n",
      "Epoch 57/100\n",
      "121/121 [==============================] - 1s 7ms/step - loss: 0.0022 - val_loss: 0.0174\n",
      "Epoch 58/100\n",
      "121/121 [==============================] - 1s 7ms/step - loss: 0.0022 - val_loss: 0.0178\n",
      "Epoch 59/100\n",
      "121/121 [==============================] - 1s 7ms/step - loss: 0.0023 - val_loss: 0.0178\n",
      "Epoch 60/100\n",
      "121/121 [==============================] - 1s 6ms/step - loss: 0.0019 - val_loss: 0.0178\n",
      "Epoch 61/100\n",
      "121/121 [==============================] - 1s 6ms/step - loss: 0.0018 - val_loss: 0.0199\n",
      "Epoch 62/100\n",
      "121/121 [==============================] - 1s 6ms/step - loss: 0.0022 - val_loss: 0.0179\n",
      "Epoch 63/100\n",
      "121/121 [==============================] - 1s 7ms/step - loss: 0.0025 - val_loss: 0.0181\n",
      "Epoch 64/100\n",
      "121/121 [==============================] - 1s 6ms/step - loss: 0.0028 - val_loss: 0.0189\n",
      "Epoch 65/100\n",
      "121/121 [==============================] - 1s 6ms/step - loss: 0.0029 - val_loss: 0.0211\n",
      "Epoch 66/100\n",
      "121/121 [==============================] - 1s 7ms/step - loss: 0.0030 - val_loss: 0.0172\n",
      "Epoch 67/100\n",
      "121/121 [==============================] - 1s 7ms/step - loss: 0.0031 - val_loss: 0.0168\n",
      "Epoch 68/100\n",
      "121/121 [==============================] - 1s 7ms/step - loss: 0.0034 - val_loss: 0.0204\n",
      "Epoch 69/100\n",
      "121/121 [==============================] - 1s 7ms/step - loss: 0.0035 - val_loss: 0.0162\n",
      "Epoch 70/100\n",
      "121/121 [==============================] - 1s 6ms/step - loss: 0.0035 - val_loss: 0.0165\n",
      "Epoch 71/100\n",
      "121/121 [==============================] - 1s 6ms/step - loss: 0.0037 - val_loss: 0.0174\n",
      "Epoch 72/100\n",
      "121/121 [==============================] - 1s 7ms/step - loss: 0.0039 - val_loss: 0.0179\n",
      "Epoch 73/100\n",
      "121/121 [==============================] - 1s 7ms/step - loss: 0.0038 - val_loss: 0.0260\n",
      "Epoch 74/100\n",
      "121/121 [==============================] - 1s 7ms/step - loss: 0.0032 - val_loss: 0.0169\n",
      "Epoch 75/100\n",
      "121/121 [==============================] - 1s 6ms/step - loss: 0.0027 - val_loss: 0.0170\n",
      "Epoch 76/100\n",
      "121/121 [==============================] - 1s 6ms/step - loss: 0.0022 - val_loss: 0.0180\n",
      "Epoch 77/100\n",
      "121/121 [==============================] - 1s 6ms/step - loss: 0.0016 - val_loss: 0.0186\n",
      "Epoch 78/100\n",
      "121/121 [==============================] - 1s 6ms/step - loss: 0.0016 - val_loss: 0.0196\n",
      "Epoch 79/100\n",
      "121/121 [==============================] - 1s 6ms/step - loss: 0.0015 - val_loss: 0.0187\n",
      "Epoch 80/100\n",
      "121/121 [==============================] - 1s 6ms/step - loss: 0.0018 - val_loss: 0.0195\n",
      "Epoch 81/100\n",
      "121/121 [==============================] - 1s 7ms/step - loss: 0.0015 - val_loss: 0.0184\n",
      "Epoch 82/100\n",
      "121/121 [==============================] - 1s 7ms/step - loss: 0.0017 - val_loss: 0.0187\n",
      "Epoch 83/100\n",
      "121/121 [==============================] - 1s 6ms/step - loss: 0.0017 - val_loss: 0.0183\n",
      "Epoch 84/100\n",
      "121/121 [==============================] - 1s 6ms/step - loss: 0.0017 - val_loss: 0.0177\n",
      "Epoch 85/100\n",
      "121/121 [==============================] - 1s 6ms/step - loss: 0.0018 - val_loss: 0.0181\n",
      "Epoch 86/100\n",
      "121/121 [==============================] - 1s 6ms/step - loss: 0.0014 - val_loss: 0.0177\n",
      "Epoch 87/100\n",
      "121/121 [==============================] - 1s 7ms/step - loss: 0.0014 - val_loss: 0.0176\n",
      "Epoch 88/100\n",
      "121/121 [==============================] - 1s 7ms/step - loss: 0.0016 - val_loss: 0.0176\n",
      "Epoch 89/100\n",
      "121/121 [==============================] - 1s 7ms/step - loss: 0.0015 - val_loss: 0.0173\n",
      "Epoch 90/100\n",
      "121/121 [==============================] - 1s 6ms/step - loss: 0.0019 - val_loss: 0.0182\n",
      "Epoch 91/100\n",
      "121/121 [==============================] - 1s 6ms/step - loss: 0.0018 - val_loss: 0.0184\n",
      "Epoch 92/100\n",
      "121/121 [==============================] - 1s 7ms/step - loss: 0.0019 - val_loss: 0.0186\n",
      "Epoch 93/100\n",
      "121/121 [==============================] - 1s 6ms/step - loss: 0.0021 - val_loss: 0.0185\n",
      "Epoch 94/100\n",
      "121/121 [==============================] - 1s 6ms/step - loss: 0.0025 - val_loss: 0.0183\n",
      "Epoch 95/100\n",
      "121/121 [==============================] - 1s 6ms/step - loss: 0.0029 - val_loss: 0.0160\n",
      "Epoch 96/100\n",
      "121/121 [==============================] - 1s 6ms/step - loss: 0.0022 - val_loss: 0.0178\n",
      "Epoch 97/100\n",
      "121/121 [==============================] - 1s 7ms/step - loss: 0.0035 - val_loss: 0.0186\n",
      "Epoch 98/100\n",
      "121/121 [==============================] - 1s 6ms/step - loss: 0.0029 - val_loss: 0.0159\n",
      "Epoch 99/100\n",
      "121/121 [==============================] - 1s 6ms/step - loss: 0.0019 - val_loss: 0.0168\n",
      "Epoch 100/100\n",
      "121/121 [==============================] - 1s 6ms/step - loss: 0.0015 - val_loss: 0.0169\n"
     ]
    }
   ],
   "source": [
    "hystory = model.fit(\n",
    "    x=X_train,\n",
    "    y=y_train,\n",
    "    epochs=100,\n",
    "    batch_size=32,\n",
    "    shuffle=True,\n",
    "    verbose=1,\n",
    "    validation_data=(X_val, y_val),\n",
    ")"
   ]
  },
  {
   "cell_type": "code",
   "execution_count": 29,
   "metadata": {},
   "outputs": [
    {
     "data": {
      "text/plain": [
       "<Axes: title={'center': 'Hystory loss'}>"
      ]
     },
     "execution_count": 29,
     "metadata": {},
     "output_type": "execute_result"
    },
    {
     "data": {
      "image/png": "[encoded data removed]",
      "text/plain": [
       "<Figure size 1400x500 with 1 Axes>"
      ]
     },
     "metadata": {},
     "output_type": "display_data"
    }
   ],
   "source": [
    "df_hystory = pd.DataFrame(hystory.history)\n",
    "df_hystory.plot(figsize=(14, 5), title='Hystory loss')"
   ]
  },
  {
   "cell_type": "code",
   "execution_count": 30,
   "metadata": {},
   "outputs": [
    {
     "name": "stdout",
     "output_type": "stream",
     "text": [
      "40/40 [==============================] - 0s 1ms/step\n"
     ]
    },
    {
     "data": {
      "text/plain": [
       "array([[ 0.09349   ],\n",
       "       [ 0.08268369],\n",
       "       [-0.03250665],\n",
       "       ...,\n",
       "       [ 0.0675832 ],\n",
       "       [ 0.03643199],\n",
       "       [ 0.05552817]], dtype=float32)"
      ]
     },
     "execution_count": 30,
     "metadata": {},
     "output_type": "execute_result"
    }
   ],
   "source": [
    "predictions = model.predict(X_test)\n",
    "predictions"
   ]
  },
  {
   "cell_type": "code",
   "execution_count": 31,
   "metadata": {},
   "outputs": [
    {
     "data": {
      "text/plain": [
       "(array([-0.21965122, -0.21330835, -0.20621942, ...,  0.4791356 ,\n",
       "         0.49196202,  0.5669756 ], dtype=float32),\n",
       " array([1, 1, 1, ..., 1, 1, 1]))"
      ]
     },
     "execution_count": 31,
     "metadata": {},
     "output_type": "execute_result"
    }
   ],
   "source": [
    "np.unique(predictions, return_counts=True)"
   ]
  }
 ],
 "metadata": {
  "kernelspec": {
   "display_name": "env",
   "language": "python",
   "name": "python3"
  },
  "language_info": {
   "codemirror_mode": {
    "name": "ipython",
    "version": 3
   },
   "file_extension": ".py",
   "mimetype": "text/x-python",
   "name": "python",
   "nbconvert_exporter": "python",
   "pygments_lexer": "ipython3",
   "version": "3.10.12"
  },
  "orig_nbformat": 4
 },
 "nbformat": 4,
 "nbformat_minor": 2
}
