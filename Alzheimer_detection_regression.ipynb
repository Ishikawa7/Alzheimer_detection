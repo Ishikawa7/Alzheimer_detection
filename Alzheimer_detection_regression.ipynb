{
 "cells": [
  {
   "cell_type": "code",
   "execution_count": 1,
   "metadata": {},
   "outputs": [
    {
     "name": "stderr",
     "output_type": "stream",
     "text": [
      "2023-10-01 09:37:49.408910: I tensorflow/tsl/cuda/cudart_stub.cc:28] Could not find cuda drivers on your machine, GPU will not be used.\n",
      "2023-10-01 09:37:49.438600: E tensorflow/compiler/xla/stream_executor/cuda/cuda_dnn.cc:9342] Unable to register cuDNN factory: Attempting to register factory for plugin cuDNN when one has already been registered\n",
      "2023-10-01 09:37:49.438643: E tensorflow/compiler/xla/stream_executor/cuda/cuda_fft.cc:609] Unable to register cuFFT factory: Attempting to register factory for plugin cuFFT when one has already been registered\n",
      "2023-10-01 09:37:49.438665: E tensorflow/compiler/xla/stream_executor/cuda/cuda_blas.cc:1518] Unable to register cuBLAS factory: Attempting to register factory for plugin cuBLAS when one has already been registered\n",
      "2023-10-01 09:37:49.444227: I tensorflow/tsl/cuda/cudart_stub.cc:28] Could not find cuda drivers on your machine, GPU will not be used.\n",
      "2023-10-01 09:37:49.444938: I tensorflow/core/platform/cpu_feature_guard.cc:182] This TensorFlow binary is optimized to use available CPU instructions in performance-critical operations.\n",
      "To enable the following instructions: AVX2 FMA, in other operations, rebuild TensorFlow with the appropriate compiler flags.\n",
      "2023-10-01 09:37:50.264230: W tensorflow/compiler/tf2tensorrt/utils/py_utils.cc:38] TF-TRT Warning: Could not find TensorRT\n"
     ]
    },
    {
     "data": {
      "text/plain": [
       "<module 'Models.ANN_1' from '/home/davide/Desktop/Alzheimer_detection/Alzheimer_detection/Models/ANN_1.py'>"
      ]
     },
     "execution_count": 1,
     "metadata": {},
     "output_type": "execute_result"
    }
   ],
   "source": [
    "import importlib\n",
    "import numpy as np\n",
    "import pandas as pd\n",
    "import matplotlib.pyplot as plt\n",
    "import seaborn as sns\n",
    "\n",
    "from Utils import Processing\n",
    "from Models import ANN_1, ConvMassimo\n",
    "\n",
    "from sklearn.metrics import confusion_matrix, classification_report, r2_score, mean_absolute_error, mean_squared_error\n",
    "\n",
    "importlib.reload(Processing)\n",
    "importlib.reload(ANN_1)"
   ]
  },
  {
   "cell_type": "code",
   "execution_count": 44,
   "metadata": {},
   "outputs": [],
   "source": [
    "X_train = np.load('PCA_Data/X_train_pca.npy')\n",
    "y_train = np.load('PCA_Data/y_train.npy')\n",
    "labels_train = np.load('PCA_Data/labels_list_train.npy')\n",
    "\n",
    "X_test = np.load('PCA_Data/X_test_pca.npy')\n",
    "y_test = np.load('PCA_Data/y_test.npy')\n",
    "labels_test = np.load('PCA_Data/labels_list_test.npy')"
   ]
  },
  {
   "cell_type": "code",
   "execution_count": 45,
   "metadata": {},
   "outputs": [],
   "source": [
    "X_train = X_train.reshape(-1, 27, 27)\n",
    "X_test = X_test.reshape(-1, 27, 27)\n",
    "# normalize each image with min-max normalization\n",
    "#for i in range(len(X_train)):\n",
    "#    max = X_train[i].max()\n",
    "#    min = X_train[i].min()\n",
    "#    X_train[i] = (X_train[i] - min) / (max - min)\n",
    "#\n",
    "#for i in range(len(X_test)):\n",
    "#    max = X_test[i].max()\n",
    "#    min = X_test[i].min()\n",
    "#    X_test[i] = (X_test[i] - min) / (max - min)"
   ]
  },
  {
   "cell_type": "code",
   "execution_count": 4,
   "metadata": {},
   "outputs": [],
   "source": [
    "#from Utils import Visualizing\n",
    "#importlib.reload(Visualizing)\n",
    "#\n",
    "#Visualizing.display2([X_train], labels_train)"
   ]
  },
  {
   "cell_type": "code",
   "execution_count": 46,
   "metadata": {},
   "outputs": [],
   "source": [
    "validation_percentage = 0.20\n",
    "X_val = X_train[int(1-validation_percentage * len(X_train)):]\n",
    "X_train = X_train[:int(1-validation_percentage * len(X_train))]\n",
    "y_val = y_train[int(1-validation_percentage * len(y_train)):]\n",
    "y_train = y_train[:int(1-validation_percentage * len(y_train))]\n",
    "labels_val = labels_train[int(1-validation_percentage * len(labels_train)):]\n",
    "labels_train = labels_train[:int(1-validation_percentage * len(labels_train))]"
   ]
  },
  {
   "cell_type": "code",
   "execution_count": 47,
   "metadata": {},
   "outputs": [
    {
     "data": {
      "text/plain": [
       "array([['MildDemented'],\n",
       "       ['VeryMildDemented'],\n",
       "       ['VeryMildDemented'],\n",
       "       ...,\n",
       "       ['VeryMildDemented'],\n",
       "       ['NonDemented'],\n",
       "       ['NonDemented']], dtype='<U16')"
      ]
     },
     "execution_count": 47,
     "metadata": {},
     "output_type": "execute_result"
    }
   ],
   "source": [
    "labels_train"
   ]
  },
  {
   "cell_type": "code",
   "execution_count": 52,
   "metadata": {},
   "outputs": [
    {
     "data": {
      "text/plain": [
       "label\n",
       "NonDemented         2069\n",
       "VeryMildDemented    1436\n",
       "MildDemented         551\n",
       "ModerateDemented      42\n",
       "Name: count, dtype: int64"
      ]
     },
     "execution_count": 52,
     "metadata": {},
     "output_type": "execute_result"
    }
   ],
   "source": [
    "df_labels_train = pd.DataFrame(labels_train, columns=['label'])\n",
    "df_labels_train['label'].value_counts()"
   ]
  },
  {
   "cell_type": "code",
   "execution_count": 53,
   "metadata": {},
   "outputs": [
    {
     "data": {
      "text/html": [
       "<div>\n",
       "<style scoped>\n",
       "    .dataframe tbody tr th:only-of-type {\n",
       "        vertical-align: middle;\n",
       "    }\n",
       "\n",
       "    .dataframe tbody tr th {\n",
       "        vertical-align: top;\n",
       "    }\n",
       "\n",
       "    .dataframe thead th {\n",
       "        text-align: right;\n",
       "    }\n",
       "</style>\n",
       "<table border=\"1\" class=\"dataframe\">\n",
       "  <thead>\n",
       "    <tr style=\"text-align: right;\">\n",
       "      <th></th>\n",
       "      <th>MildDemented</th>\n",
       "      <th>ModerateDemented</th>\n",
       "      <th>NonDemented</th>\n",
       "      <th>VeryMildDemented</th>\n",
       "    </tr>\n",
       "  </thead>\n",
       "  <tbody>\n",
       "    <tr>\n",
       "      <th>0</th>\n",
       "      <td>1</td>\n",
       "      <td>0</td>\n",
       "      <td>0</td>\n",
       "      <td>0</td>\n",
       "    </tr>\n",
       "    <tr>\n",
       "      <th>1</th>\n",
       "      <td>0</td>\n",
       "      <td>0</td>\n",
       "      <td>0</td>\n",
       "      <td>1</td>\n",
       "    </tr>\n",
       "    <tr>\n",
       "      <th>2</th>\n",
       "      <td>0</td>\n",
       "      <td>0</td>\n",
       "      <td>0</td>\n",
       "      <td>1</td>\n",
       "    </tr>\n",
       "    <tr>\n",
       "      <th>3</th>\n",
       "      <td>0</td>\n",
       "      <td>0</td>\n",
       "      <td>0</td>\n",
       "      <td>1</td>\n",
       "    </tr>\n",
       "    <tr>\n",
       "      <th>4</th>\n",
       "      <td>0</td>\n",
       "      <td>0</td>\n",
       "      <td>1</td>\n",
       "      <td>0</td>\n",
       "    </tr>\n",
       "    <tr>\n",
       "      <th>...</th>\n",
       "      <td>...</td>\n",
       "      <td>...</td>\n",
       "      <td>...</td>\n",
       "      <td>...</td>\n",
       "    </tr>\n",
       "    <tr>\n",
       "      <th>4093</th>\n",
       "      <td>0</td>\n",
       "      <td>0</td>\n",
       "      <td>1</td>\n",
       "      <td>0</td>\n",
       "    </tr>\n",
       "    <tr>\n",
       "      <th>4094</th>\n",
       "      <td>0</td>\n",
       "      <td>0</td>\n",
       "      <td>1</td>\n",
       "      <td>0</td>\n",
       "    </tr>\n",
       "    <tr>\n",
       "      <th>4095</th>\n",
       "      <td>0</td>\n",
       "      <td>0</td>\n",
       "      <td>0</td>\n",
       "      <td>1</td>\n",
       "    </tr>\n",
       "    <tr>\n",
       "      <th>4096</th>\n",
       "      <td>0</td>\n",
       "      <td>0</td>\n",
       "      <td>1</td>\n",
       "      <td>0</td>\n",
       "    </tr>\n",
       "    <tr>\n",
       "      <th>4097</th>\n",
       "      <td>0</td>\n",
       "      <td>0</td>\n",
       "      <td>1</td>\n",
       "      <td>0</td>\n",
       "    </tr>\n",
       "  </tbody>\n",
       "</table>\n",
       "<p>4098 rows × 4 columns</p>\n",
       "</div>"
      ],
      "text/plain": [
       "      MildDemented  ModerateDemented  NonDemented  VeryMildDemented\n",
       "0                1                 0            0                 0\n",
       "1                0                 0            0                 1\n",
       "2                0                 0            0                 1\n",
       "3                0                 0            0                 1\n",
       "4                0                 0            1                 0\n",
       "...            ...               ...          ...               ...\n",
       "4093             0                 0            1                 0\n",
       "4094             0                 0            1                 0\n",
       "4095             0                 0            0                 1\n",
       "4096             0                 0            1                 0\n",
       "4097             0                 0            1                 0\n",
       "\n",
       "[4098 rows x 4 columns]"
      ]
     },
     "execution_count": 53,
     "metadata": {},
     "output_type": "execute_result"
    }
   ],
   "source": [
    "# one hot encoding df_labels_train\n",
    "df_labels_train = pd.get_dummies(df_labels_train['label'])\n",
    "df_labels_train = df_labels_train.astype(int)\n",
    "# rearrainging columns\n",
    "df_labels_train = df_labels_train[['NonDemented', 'VeryMildDemented', 'MildDemented', \"ModerateDemented\"]]\n",
    "df_labels_train"
   ]
  },
  {
   "cell_type": "code",
   "execution_count": 40,
   "metadata": {},
   "outputs": [],
   "source": [
    "# one hot encoding labels\n",
    "from sklearn.preprocessing import OneHotEncoder\n",
    "enc = OneHotEncoder()\n",
    "enc.fit(labels_train.reshape(-1, 1))\n",
    "labels_train = enc.transform(labels_train.reshape(-1, 1)).toarray()\n",
    "labels_val = enc.transform(labels_val.reshape(-1, 1)).toarray()\n",
    "labels_test = enc.transform(labels_test.reshape(-1, 1)).toarray()"
   ]
  },
  {
   "cell_type": "code",
   "execution_count": 7,
   "metadata": {},
   "outputs": [],
   "source": [
    "# labels_train = Processing.convert_labels(labels_train)\n",
    "# labels_train = labels_train/(labels_train.max())\n",
    "# \n",
    "# labels_val = Processing.convert_labels(labels_val)\n",
    "# labels_val = labels_val/(labels_val.max())\n",
    "# \n",
    "# labels_test = Processing.convert_labels(labels_test)\n",
    "# labels_test = labels_test/(labels_test.max())"
   ]
  },
  {
   "cell_type": "code",
   "execution_count": 8,
   "metadata": {},
   "outputs": [
    {
     "name": "stdout",
     "output_type": "stream",
     "text": [
      "(4098, 27, 27)\n",
      "(1023, 27, 27)\n",
      "(1279, 27, 27)\n",
      "(array([0., 1.]), array([12294,  4098]))\n",
      "(array([0., 1.]), array([3069, 1023]))\n",
      "(array([0., 1.]), array([3837, 1279]))\n"
     ]
    }
   ],
   "source": [
    "print(X_train.shape)\n",
    "print(X_val.shape)\n",
    "print(X_test.shape)"
   ]
  },
  {
   "cell_type": "code",
   "execution_count": 43,
   "metadata": {},
   "outputs": [
    {
     "data": {
      "text/plain": [
       "array([[1., 0., 0., 0.],\n",
       "       [0., 0., 0., 1.],\n",
       "       [0., 0., 0., 1.],\n",
       "       ...,\n",
       "       [0., 0., 0., 1.],\n",
       "       [0., 0., 1., 0.],\n",
       "       [0., 0., 1., 0.]])"
      ]
     },
     "execution_count": 43,
     "metadata": {},
     "output_type": "execute_result"
    }
   ],
   "source": [
    "labels_train"
   ]
  },
  {
   "cell_type": "code",
   "execution_count": 41,
   "metadata": {},
   "outputs": [
    {
     "name": "stdout",
     "output_type": "stream",
     "text": [
      "(array([0., 1.]), array([12294,  4098]))\n",
      "(array([0., 1.]), array([3069, 1023]))\n",
      "(array([0., 1.]), array([3837, 1279]))\n"
     ]
    }
   ],
   "source": [
    "print(labels_train.shape)\n",
    "print(np.unique(labels_val, return_counts=True))\n",
    "print(np.unique(labels_test, return_counts=True))"
   ]
  },
  {
   "cell_type": "code",
   "execution_count": 42,
   "metadata": {},
   "outputs": [
    {
     "data": {
      "text/plain": [
       "(array([0., 1.]), array([12294,  4098]))"
      ]
     },
     "execution_count": 42,
     "metadata": {},
     "output_type": "execute_result"
    }
   ],
   "source": [
    "np.unique(labels_train, return_counts=True)"
   ]
  },
  {
   "cell_type": "code",
   "execution_count": 9,
   "metadata": {},
   "outputs": [],
   "source": [
    "#importlib.reload(ConvMassimo)\n",
    "#model = ConvMassimo.build_Model(input_shape=(27,27,1))\n",
    "#model.summary()"
   ]
  },
  {
   "cell_type": "code",
   "execution_count": 10,
   "metadata": {},
   "outputs": [
    {
     "name": "stdout",
     "output_type": "stream",
     "text": [
      "Model: \"model\"\n",
      "_________________________________________________________________\n",
      " Layer (type)                Output Shape              Param #   \n",
      "=================================================================\n",
      " input (InputLayer)          [(None, 27, 27)]          0         \n",
      "                                                                 \n",
      " flatten (Flatten)           (None, 729)               0         \n",
      "                                                                 \n",
      " dense (Dense)               (None, 729)               532170    \n",
      "                                                                 \n",
      " dense_1 (Dense)             (None, 729)               532170    \n",
      "                                                                 \n",
      " dense_2 (Dense)             (None, 4)                 2920      \n",
      "                                                                 \n",
      "=================================================================\n",
      "Total params: 1067260 (4.07 MB)\n",
      "Trainable params: 1067260 (4.07 MB)\n",
      "Non-trainable params: 0 (0.00 Byte)\n",
      "_________________________________________________________________\n"
     ]
    }
   ],
   "source": [
    "importlib.reload(ANN_1)\n",
    "model = ANN_1.build_Model(input_shape=(27,27))\n",
    "model.summary()"
   ]
  },
  {
   "cell_type": "code",
   "execution_count": 11,
   "metadata": {},
   "outputs": [
    {
     "name": "stdout",
     "output_type": "stream",
     "text": [
      "Epoch 1/100\n",
      "33/33 [==============================] - 1s 27ms/step - loss: 1.5168 - categorical_accuracy: 0.3511 - val_loss: 1.2668 - val_categorical_accuracy: 0.4448\n",
      "Epoch 2/100\n",
      "33/33 [==============================] - 1s 26ms/step - loss: 1.1145 - categorical_accuracy: 0.5134 - val_loss: 1.3350 - val_categorical_accuracy: 0.4409\n",
      "Epoch 3/100\n",
      "33/33 [==============================] - 1s 27ms/step - loss: 1.0101 - categorical_accuracy: 0.5459 - val_loss: 1.2859 - val_categorical_accuracy: 0.4301\n",
      "Epoch 4/100\n",
      "33/33 [==============================] - 1s 25ms/step - loss: 0.8626 - categorical_accuracy: 0.6020 - val_loss: 1.3706 - val_categorical_accuracy: 0.4252\n",
      "Epoch 5/100\n",
      "33/33 [==============================] - 1s 25ms/step - loss: 0.8317 - categorical_accuracy: 0.6079 - val_loss: 1.3539 - val_categorical_accuracy: 0.4340\n",
      "Epoch 6/100\n",
      "33/33 [==============================] - 1s 23ms/step - loss: 0.7651 - categorical_accuracy: 0.6528 - val_loss: 1.4394 - val_categorical_accuracy: 0.4057\n",
      "Epoch 7/100\n",
      "33/33 [==============================] - 1s 24ms/step - loss: 0.8353 - categorical_accuracy: 0.6454 - val_loss: 1.4595 - val_categorical_accuracy: 0.4213\n",
      "Epoch 8/100\n",
      "33/33 [==============================] - 1s 24ms/step - loss: 0.6977 - categorical_accuracy: 0.6928 - val_loss: 1.5037 - val_categorical_accuracy: 0.4252\n",
      "Epoch 9/100\n",
      "33/33 [==============================] - 1s 25ms/step - loss: 0.6439 - categorical_accuracy: 0.7064 - val_loss: 1.5717 - val_categorical_accuracy: 0.4272\n",
      "Epoch 10/100\n",
      "33/33 [==============================] - 1s 25ms/step - loss: 0.7646 - categorical_accuracy: 0.6684 - val_loss: 1.5954 - val_categorical_accuracy: 0.4242\n",
      "Epoch 11/100\n",
      "33/33 [==============================] - 1s 26ms/step - loss: 0.7167 - categorical_accuracy: 0.7008 - val_loss: 1.7159 - val_categorical_accuracy: 0.3978\n",
      "Epoch 12/100\n",
      "33/33 [==============================] - 1s 26ms/step - loss: 0.7898 - categorical_accuracy: 0.6886 - val_loss: 1.6395 - val_categorical_accuracy: 0.4360\n",
      "Epoch 13/100\n",
      "33/33 [==============================] - 1s 25ms/step - loss: 0.5783 - categorical_accuracy: 0.7613 - val_loss: 1.6569 - val_categorical_accuracy: 0.4223\n",
      "Epoch 14/100\n",
      "33/33 [==============================] - 1s 24ms/step - loss: 0.5895 - categorical_accuracy: 0.7448 - val_loss: 1.7354 - val_categorical_accuracy: 0.4213\n",
      "Epoch 15/100\n",
      "33/33 [==============================] - 1s 25ms/step - loss: 0.4929 - categorical_accuracy: 0.7950 - val_loss: 1.8155 - val_categorical_accuracy: 0.4184\n",
      "Epoch 16/100\n",
      "33/33 [==============================] - 1s 26ms/step - loss: 0.4533 - categorical_accuracy: 0.8245 - val_loss: 1.9357 - val_categorical_accuracy: 0.4086\n",
      "Epoch 17/100\n",
      "33/33 [==============================] - 1s 24ms/step - loss: 0.5100 - categorical_accuracy: 0.7870 - val_loss: 2.0206 - val_categorical_accuracy: 0.4262\n",
      "Epoch 18/100\n",
      "33/33 [==============================] - 1s 24ms/step - loss: 0.5281 - categorical_accuracy: 0.8045 - val_loss: 2.0297 - val_categorical_accuracy: 0.4008\n",
      "Epoch 19/100\n",
      "33/33 [==============================] - 1s 25ms/step - loss: 0.5471 - categorical_accuracy: 0.7904 - val_loss: 2.0504 - val_categorical_accuracy: 0.4047\n",
      "Epoch 20/100\n",
      "33/33 [==============================] - 1s 24ms/step - loss: 0.5104 - categorical_accuracy: 0.7950 - val_loss: 2.1280 - val_categorical_accuracy: 0.4027\n",
      "Epoch 21/100\n",
      "33/33 [==============================] - 1s 24ms/step - loss: 0.3823 - categorical_accuracy: 0.8651 - val_loss: 2.1628 - val_categorical_accuracy: 0.3978\n",
      "Epoch 22/100\n",
      "33/33 [==============================] - 1s 24ms/step - loss: 0.3883 - categorical_accuracy: 0.8673 - val_loss: 2.2706 - val_categorical_accuracy: 0.4135\n",
      "Epoch 23/100\n",
      "33/33 [==============================] - 1s 25ms/step - loss: 0.3297 - categorical_accuracy: 0.8934 - val_loss: 2.4017 - val_categorical_accuracy: 0.4076\n",
      "Epoch 24/100\n",
      "33/33 [==============================] - 1s 24ms/step - loss: 0.4506 - categorical_accuracy: 0.8272 - val_loss: 2.3067 - val_categorical_accuracy: 0.4076\n",
      "Epoch 25/100\n",
      "33/33 [==============================] - 1s 24ms/step - loss: 0.3732 - categorical_accuracy: 0.8648 - val_loss: 2.3613 - val_categorical_accuracy: 0.4106\n",
      "Epoch 26/100\n",
      "33/33 [==============================] - 1s 24ms/step - loss: 0.2879 - categorical_accuracy: 0.9168 - val_loss: 2.4928 - val_categorical_accuracy: 0.4037\n",
      "Epoch 27/100\n",
      "33/33 [==============================] - 1s 24ms/step - loss: 0.2629 - categorical_accuracy: 0.9234 - val_loss: 2.5686 - val_categorical_accuracy: 0.4057\n",
      "Epoch 28/100\n",
      "33/33 [==============================] - 1s 24ms/step - loss: 0.2284 - categorical_accuracy: 0.9407 - val_loss: 2.6869 - val_categorical_accuracy: 0.4066\n",
      "Epoch 29/100\n",
      "33/33 [==============================] - 1s 24ms/step - loss: 0.2571 - categorical_accuracy: 0.9158 - val_loss: 2.7867 - val_categorical_accuracy: 0.4106\n",
      "Epoch 30/100\n",
      "33/33 [==============================] - 1s 26ms/step - loss: 0.1990 - categorical_accuracy: 0.9444 - val_loss: 2.8837 - val_categorical_accuracy: 0.4047\n",
      "Epoch 31/100\n",
      "33/33 [==============================] - 1s 24ms/step - loss: 0.2152 - categorical_accuracy: 0.9361 - val_loss: 2.9457 - val_categorical_accuracy: 0.4047\n",
      "Epoch 32/100\n",
      "33/33 [==============================] - 1s 24ms/step - loss: 0.2029 - categorical_accuracy: 0.9395 - val_loss: 2.9802 - val_categorical_accuracy: 0.4096\n",
      "Epoch 33/100\n",
      "33/33 [==============================] - 1s 24ms/step - loss: 0.1604 - categorical_accuracy: 0.9644 - val_loss: 3.1625 - val_categorical_accuracy: 0.4106\n",
      "Epoch 34/100\n",
      "33/33 [==============================] - 1s 24ms/step - loss: 0.1863 - categorical_accuracy: 0.9446 - val_loss: 3.2492 - val_categorical_accuracy: 0.3959\n",
      "Epoch 35/100\n",
      "33/33 [==============================] - 1s 24ms/step - loss: 0.2045 - categorical_accuracy: 0.9388 - val_loss: 3.2782 - val_categorical_accuracy: 0.4086\n",
      "Epoch 36/100\n",
      "33/33 [==============================] - 1s 24ms/step - loss: 0.1464 - categorical_accuracy: 0.9668 - val_loss: 3.3342 - val_categorical_accuracy: 0.4047\n",
      "Epoch 37/100\n",
      "33/33 [==============================] - 1s 24ms/step - loss: 0.1127 - categorical_accuracy: 0.9810 - val_loss: 3.4223 - val_categorical_accuracy: 0.4018\n",
      "Epoch 38/100\n",
      "33/33 [==============================] - 1s 25ms/step - loss: 0.0986 - categorical_accuracy: 0.9868 - val_loss: 3.5291 - val_categorical_accuracy: 0.4106\n",
      "Epoch 39/100\n",
      "33/33 [==============================] - 1s 25ms/step - loss: 0.0834 - categorical_accuracy: 0.9890 - val_loss: 3.6078 - val_categorical_accuracy: 0.4115\n",
      "Epoch 40/100\n",
      "33/33 [==============================] - 1s 24ms/step - loss: 0.0946 - categorical_accuracy: 0.9837 - val_loss: 3.7160 - val_categorical_accuracy: 0.3988\n",
      "Epoch 41/100\n",
      "33/33 [==============================] - 1s 24ms/step - loss: 0.0726 - categorical_accuracy: 0.9885 - val_loss: 3.8068 - val_categorical_accuracy: 0.3998\n",
      "Epoch 42/100\n",
      "33/33 [==============================] - 1s 24ms/step - loss: 0.0602 - categorical_accuracy: 0.9898 - val_loss: 3.9092 - val_categorical_accuracy: 0.3988\n",
      "Epoch 43/100\n",
      "33/33 [==============================] - 1s 24ms/step - loss: 0.0513 - categorical_accuracy: 0.9934 - val_loss: 4.0187 - val_categorical_accuracy: 0.4057\n",
      "Epoch 44/100\n",
      "33/33 [==============================] - 1s 24ms/step - loss: 0.0470 - categorical_accuracy: 0.9949 - val_loss: 4.1163 - val_categorical_accuracy: 0.4076\n",
      "Epoch 45/100\n",
      "33/33 [==============================] - 1s 24ms/step - loss: 0.0424 - categorical_accuracy: 0.9949 - val_loss: 4.2146 - val_categorical_accuracy: 0.4115\n",
      "Epoch 46/100\n",
      "33/33 [==============================] - 1s 24ms/step - loss: 0.1989 - categorical_accuracy: 0.9324 - val_loss: 4.1233 - val_categorical_accuracy: 0.4037\n",
      "Epoch 47/100\n",
      "33/33 [==============================] - 1s 26ms/step - loss: 0.1518 - categorical_accuracy: 0.9536 - val_loss: 4.1474 - val_categorical_accuracy: 0.4106\n",
      "Epoch 48/100\n",
      "33/33 [==============================] - 1s 26ms/step - loss: 0.0874 - categorical_accuracy: 0.9829 - val_loss: 4.1665 - val_categorical_accuracy: 0.4057\n",
      "Epoch 49/100\n",
      "33/33 [==============================] - 1s 24ms/step - loss: 0.0642 - categorical_accuracy: 0.9902 - val_loss: 4.1752 - val_categorical_accuracy: 0.4164\n",
      "Epoch 50/100\n",
      "33/33 [==============================] - 1s 23ms/step - loss: 0.0445 - categorical_accuracy: 0.9944 - val_loss: 4.2694 - val_categorical_accuracy: 0.4027\n",
      "Epoch 51/100\n",
      "33/33 [==============================] - 1s 24ms/step - loss: 0.0483 - categorical_accuracy: 0.9932 - val_loss: 4.3360 - val_categorical_accuracy: 0.4076\n",
      "Epoch 52/100\n",
      "33/33 [==============================] - 1s 25ms/step - loss: 0.0400 - categorical_accuracy: 0.9956 - val_loss: 4.3823 - val_categorical_accuracy: 0.4174\n",
      "Epoch 53/100\n",
      "33/33 [==============================] - 1s 25ms/step - loss: 0.0328 - categorical_accuracy: 0.9959 - val_loss: 4.4755 - val_categorical_accuracy: 0.4115\n",
      "Epoch 54/100\n",
      "33/33 [==============================] - 1s 23ms/step - loss: 0.0287 - categorical_accuracy: 0.9966 - val_loss: 4.5419 - val_categorical_accuracy: 0.4125\n",
      "Epoch 55/100\n",
      "33/33 [==============================] - 1s 24ms/step - loss: 0.0225 - categorical_accuracy: 0.9983 - val_loss: 4.5937 - val_categorical_accuracy: 0.4106\n",
      "Epoch 56/100\n",
      "33/33 [==============================] - 1s 25ms/step - loss: 0.0192 - categorical_accuracy: 0.9980 - val_loss: 4.6905 - val_categorical_accuracy: 0.4086\n",
      "Epoch 57/100\n",
      "33/33 [==============================] - 1s 24ms/step - loss: 0.0166 - categorical_accuracy: 0.9980 - val_loss: 4.7501 - val_categorical_accuracy: 0.4125\n",
      "Epoch 58/100\n",
      "33/33 [==============================] - 1s 24ms/step - loss: 0.0148 - categorical_accuracy: 0.9993 - val_loss: 4.8140 - val_categorical_accuracy: 0.4076\n",
      "Epoch 59/100\n",
      "33/33 [==============================] - 1s 24ms/step - loss: 0.0134 - categorical_accuracy: 0.9993 - val_loss: 4.8717 - val_categorical_accuracy: 0.4115\n",
      "Epoch 60/100\n",
      "33/33 [==============================] - 1s 24ms/step - loss: 0.0126 - categorical_accuracy: 0.9993 - val_loss: 4.9377 - val_categorical_accuracy: 0.4106\n",
      "Epoch 61/100\n",
      "33/33 [==============================] - 1s 24ms/step - loss: 0.0235 - categorical_accuracy: 0.9976 - val_loss: 4.9767 - val_categorical_accuracy: 0.4076\n",
      "Epoch 62/100\n",
      "33/33 [==============================] - 1s 24ms/step - loss: 0.0178 - categorical_accuracy: 0.9973 - val_loss: 5.0542 - val_categorical_accuracy: 0.4096\n",
      "Epoch 63/100\n",
      "33/33 [==============================] - 1s 25ms/step - loss: 0.0167 - categorical_accuracy: 0.9990 - val_loss: 5.0448 - val_categorical_accuracy: 0.4096\n",
      "Epoch 64/100\n",
      "33/33 [==============================] - 1s 23ms/step - loss: 0.0124 - categorical_accuracy: 0.9985 - val_loss: 5.1174 - val_categorical_accuracy: 0.4154\n",
      "Epoch 65/100\n",
      "33/33 [==============================] - 1s 25ms/step - loss: 0.0177 - categorical_accuracy: 0.9983 - val_loss: 5.1374 - val_categorical_accuracy: 0.4047\n",
      "Epoch 66/100\n",
      "33/33 [==============================] - 1s 25ms/step - loss: 0.0113 - categorical_accuracy: 0.9983 - val_loss: 5.1678 - val_categorical_accuracy: 0.4125\n",
      "Epoch 67/100\n",
      "33/33 [==============================] - 1s 24ms/step - loss: 0.0130 - categorical_accuracy: 0.9978 - val_loss: 5.2191 - val_categorical_accuracy: 0.4066\n",
      "Epoch 68/100\n",
      "33/33 [==============================] - 1s 26ms/step - loss: 0.0102 - categorical_accuracy: 0.9993 - val_loss: 5.2670 - val_categorical_accuracy: 0.4096\n",
      "Epoch 69/100\n",
      "33/33 [==============================] - 1s 25ms/step - loss: 0.0335 - categorical_accuracy: 0.9941 - val_loss: 5.2805 - val_categorical_accuracy: 0.4135\n",
      "Epoch 70/100\n",
      "33/33 [==============================] - 1s 24ms/step - loss: 0.0328 - categorical_accuracy: 0.9934 - val_loss: 5.2950 - val_categorical_accuracy: 0.4096\n",
      "Epoch 71/100\n",
      "33/33 [==============================] - 1s 24ms/step - loss: 0.0297 - categorical_accuracy: 0.9937 - val_loss: 5.2704 - val_categorical_accuracy: 0.4145\n",
      "Epoch 72/100\n",
      "33/33 [==============================] - 1s 24ms/step - loss: 0.0352 - categorical_accuracy: 0.9929 - val_loss: 5.2037 - val_categorical_accuracy: 0.4106\n",
      "Epoch 73/100\n",
      "33/33 [==============================] - 1s 25ms/step - loss: 0.0352 - categorical_accuracy: 0.9929 - val_loss: 5.2651 - val_categorical_accuracy: 0.4037\n",
      "Epoch 74/100\n",
      "33/33 [==============================] - 1s 25ms/step - loss: 0.0227 - categorical_accuracy: 0.9954 - val_loss: 5.2661 - val_categorical_accuracy: 0.4096\n",
      "Epoch 75/100\n",
      "33/33 [==============================] - 1s 24ms/step - loss: 0.0201 - categorical_accuracy: 0.9949 - val_loss: 5.2904 - val_categorical_accuracy: 0.4086\n",
      "Epoch 76/100\n",
      "33/33 [==============================] - 1s 24ms/step - loss: 0.0589 - categorical_accuracy: 0.9895 - val_loss: 5.3227 - val_categorical_accuracy: 0.4076\n",
      "Epoch 77/100\n",
      "33/33 [==============================] - 1s 26ms/step - loss: 0.0944 - categorical_accuracy: 0.9817 - val_loss: 5.1537 - val_categorical_accuracy: 0.4076\n",
      "Epoch 78/100\n",
      "33/33 [==============================] - 1s 25ms/step - loss: 0.0871 - categorical_accuracy: 0.9790 - val_loss: 4.9114 - val_categorical_accuracy: 0.4106\n",
      "Epoch 79/100\n",
      "33/33 [==============================] - 1s 24ms/step - loss: 0.0635 - categorical_accuracy: 0.9851 - val_loss: 4.9832 - val_categorical_accuracy: 0.4115\n",
      "Epoch 80/100\n",
      "33/33 [==============================] - 1s 24ms/step - loss: 0.4023 - categorical_accuracy: 0.8880 - val_loss: 4.1717 - val_categorical_accuracy: 0.4145\n",
      "Epoch 81/100\n",
      "33/33 [==============================] - 1s 24ms/step - loss: 0.2144 - categorical_accuracy: 0.9275 - val_loss: 4.1876 - val_categorical_accuracy: 0.4057\n",
      "Epoch 82/100\n",
      "33/33 [==============================] - 1s 24ms/step - loss: 0.0934 - categorical_accuracy: 0.9717 - val_loss: 4.2447 - val_categorical_accuracy: 0.4037\n",
      "Epoch 83/100\n",
      "33/33 [==============================] - 1s 25ms/step - loss: 0.0454 - categorical_accuracy: 0.9907 - val_loss: 4.3367 - val_categorical_accuracy: 0.4164\n",
      "Epoch 84/100\n",
      "33/33 [==============================] - 1s 25ms/step - loss: 0.0299 - categorical_accuracy: 0.9949 - val_loss: 4.4251 - val_categorical_accuracy: 0.4096\n",
      "Epoch 85/100\n",
      "33/33 [==============================] - 1s 24ms/step - loss: 0.0202 - categorical_accuracy: 0.9978 - val_loss: 4.5129 - val_categorical_accuracy: 0.4047\n",
      "Epoch 86/100\n",
      "33/33 [==============================] - 1s 24ms/step - loss: 0.0130 - categorical_accuracy: 0.9993 - val_loss: 4.6025 - val_categorical_accuracy: 0.4018\n",
      "Epoch 87/100\n",
      "33/33 [==============================] - 1s 24ms/step - loss: 0.0137 - categorical_accuracy: 0.9983 - val_loss: 4.6763 - val_categorical_accuracy: 0.4106\n",
      "Epoch 88/100\n",
      "33/33 [==============================] - 1s 25ms/step - loss: 0.0160 - categorical_accuracy: 0.9988 - val_loss: 4.7254 - val_categorical_accuracy: 0.4076\n",
      "Epoch 89/100\n",
      "33/33 [==============================] - 1s 24ms/step - loss: 0.0102 - categorical_accuracy: 0.9988 - val_loss: 4.7978 - val_categorical_accuracy: 0.4066\n",
      "Epoch 90/100\n",
      "33/33 [==============================] - 1s 24ms/step - loss: 0.0067 - categorical_accuracy: 0.9995 - val_loss: 4.8510 - val_categorical_accuracy: 0.4066\n",
      "Epoch 91/100\n",
      "33/33 [==============================] - 1s 24ms/step - loss: 0.0061 - categorical_accuracy: 0.9995 - val_loss: 4.9172 - val_categorical_accuracy: 0.4057\n",
      "Epoch 92/100\n",
      "33/33 [==============================] - 1s 26ms/step - loss: 0.0056 - categorical_accuracy: 0.9995 - val_loss: 4.9604 - val_categorical_accuracy: 0.4076\n",
      "Epoch 93/100\n",
      "33/33 [==============================] - 1s 24ms/step - loss: 0.0051 - categorical_accuracy: 0.9998 - val_loss: 5.0196 - val_categorical_accuracy: 0.4115\n",
      "Epoch 94/100\n",
      "33/33 [==============================] - 1s 23ms/step - loss: 0.0047 - categorical_accuracy: 1.0000 - val_loss: 5.0701 - val_categorical_accuracy: 0.4086\n",
      "Epoch 95/100\n",
      "33/33 [==============================] - 1s 23ms/step - loss: 0.0073 - categorical_accuracy: 0.9993 - val_loss: 5.1079 - val_categorical_accuracy: 0.4086\n",
      "Epoch 96/100\n",
      "33/33 [==============================] - 1s 24ms/step - loss: 0.0047 - categorical_accuracy: 0.9998 - val_loss: 5.1621 - val_categorical_accuracy: 0.4096\n",
      "Epoch 97/100\n",
      "33/33 [==============================] - 1s 24ms/step - loss: 0.0038 - categorical_accuracy: 1.0000 - val_loss: 5.2061 - val_categorical_accuracy: 0.4096\n",
      "Epoch 98/100\n",
      "33/33 [==============================] - 1s 26ms/step - loss: 0.0037 - categorical_accuracy: 0.9998 - val_loss: 5.2559 - val_categorical_accuracy: 0.4086\n",
      "Epoch 99/100\n",
      "33/33 [==============================] - 1s 25ms/step - loss: 0.0044 - categorical_accuracy: 0.9995 - val_loss: 5.2888 - val_categorical_accuracy: 0.4154\n",
      "Epoch 100/100\n",
      "33/33 [==============================] - 1s 24ms/step - loss: 0.0045 - categorical_accuracy: 0.9993 - val_loss: 5.3230 - val_categorical_accuracy: 0.4125\n"
     ]
    }
   ],
   "source": [
    "hystory = model.fit(\n",
    "    x=X_train,\n",
    "    y=labels_train,\n",
    "    epochs=100,\n",
    "    batch_size=128,\n",
    "    shuffle=True,\n",
    "    verbose=1,\n",
    "    validation_data=(X_val, labels_val),\n",
    ")"
   ]
  },
  {
   "cell_type": "code",
   "execution_count": 12,
   "metadata": {},
   "outputs": [
    {
     "data": {
      "text/plain": [
       "<Axes: title={'center': 'Hystory loss'}>"
      ]
     },
     "execution_count": 12,
     "metadata": {},
     "output_type": "execute_result"
    },
    {
     "data": {
      "image/png": "[encoded data removed]",
      "text/plain": [
       "<Figure size 1400x500 with 1 Axes>"
      ]
     },
     "metadata": {},
     "output_type": "display_data"
    }
   ],
   "source": [
    "df_hystory = pd.DataFrame(hystory.history)\n",
    "df_hystory.plot(figsize=(14, 5), title='Hystory loss')"
   ]
  },
  {
   "cell_type": "code",
   "execution_count": 13,
   "metadata": {},
   "outputs": [
    {
     "name": "stdout",
     "output_type": "stream",
     "text": [
      "40/40 [==============================] - 0s 1ms/step\n"
     ]
    },
    {
     "data": {
      "text/plain": [
       "array([[6.9934111e-05, 4.2027812e-05, 9.8870778e-01, 1.1180151e-02],\n",
       "       [3.4072271e-04, 1.2245533e-03, 1.1145819e-01, 8.8697648e-01],\n",
       "       [8.9433730e-01, 4.1048569e-03, 1.0153008e-01, 2.7743135e-05],\n",
       "       ...,\n",
       "       [8.4349478e-04, 2.6356635e-04, 6.1114854e-04, 9.9828184e-01],\n",
       "       [1.5727548e-05, 4.6321400e-04, 9.8080599e-01, 1.8715084e-02],\n",
       "       [2.1596210e-05, 5.7230759e-03, 9.5112371e-01, 4.3131620e-02]],\n",
       "      dtype=float32)"
      ]
     },
     "execution_count": 13,
     "metadata": {},
     "output_type": "execute_result"
    }
   ],
   "source": [
    "predictions = model.predict(X_test)\n",
    "predictions"
   ]
  },
  {
   "cell_type": "code",
   "execution_count": 19,
   "metadata": {},
   "outputs": [
    {
     "data": {
      "image/png": "[encoded data removed]",
      "text/plain": [
       "<Figure size 1400x400 with 1 Axes>"
      ]
     },
     "metadata": {},
     "output_type": "display_data"
    }
   ],
   "source": [
    "# plot distribution of predictions\n",
    "plt.figure(figsize=(14,4))\n",
    "plt.hist(predictions,bins=100)\n",
    "plt.title(\"Distribution of predictions\")\n",
    "plt.xlabel(\"Predictions\")\n",
    "plt.ylabel(\"Frequency\")\n",
    "# add three vertical lines to show where the classes are\n",
    "#plt.axvline(x=0.004442925495557074, color='r', linestyle='-')\n",
    "#plt.axvline(x=0.031090150887552345, color='r', linestyle='-')\n",
    "#plt.axvline(x=0.5266472253919953, color='r', linestyle='-')\n",
    "# plt.axvline(x=0.0, color='g', linestyle='-')\n",
    "# plt.axvline(x=0.333, color='g', linestyle='-')\n",
    "# plt.axvline(x=0.666, color='g', linestyle='-')\n",
    "# plt.axvline(x=1.0, color='g', linestyle='-')\n",
    "# plt.axvline(x=0.1665, color='r', linestyle='--')\n",
    "# plt.axvline(x=0.5, color='r', linestyle='--')\n",
    "# plt.axvline(x=0.833, color='r', linestyle='--')\n",
    "plt.xlim(-0.2,1.2)\n",
    "plt.show();"
   ]
  },
  {
   "cell_type": "code",
   "execution_count": 15,
   "metadata": {},
   "outputs": [
    {
     "name": "stdout",
     "output_type": "stream",
     "text": [
      "R2 score:  -3.4497290334928725\n",
      "MAE:  0.3282984859120792\n",
      "MSE:  0.281862450175304\n"
     ]
    }
   ],
   "source": [
    "# computer regression metrics\n",
    "print('R2 score: ', r2_score(labels_test, predictions))\n",
    "print('MAE: ', mean_absolute_error(labels_test, predictions))\n",
    "print('MSE: ', mean_squared_error(labels_test, predictions))"
   ]
  },
  {
   "cell_type": "code",
   "execution_count": 31,
   "metadata": {},
   "outputs": [
    {
     "data": {
      "text/plain": [
       "array(['2', '3', '0', ..., '3', '2', '2'], dtype='<U21')"
      ]
     },
     "execution_count": 31,
     "metadata": {},
     "output_type": "execute_result"
    }
   ],
   "source": [
    "# convert soft max predictions to labels\n",
    "labels_pred =  np.argmax(predictions, axis=1)\n",
    "labels_pred = labels_pred.astype(str)\n",
    "labels_pred "
   ]
  },
  {
   "cell_type": "code",
   "execution_count": 16,
   "metadata": {},
   "outputs": [],
   "source": [
    "#predictions_class = predictions * 3\n",
    "#predictions_class = predictions_class.round()\n",
    "#predictions_class = predictions_class.astype(int)\n",
    "#predictions_class"
   ]
  },
  {
   "cell_type": "code",
   "execution_count": 32,
   "metadata": {},
   "outputs": [
    {
     "data": {
      "text/plain": [
       "array(['3', '3', '2', ..., '2', '2', '3'], dtype='<U21')"
      ]
     },
     "execution_count": 32,
     "metadata": {},
     "output_type": "execute_result"
    }
   ],
   "source": [
    "# convert one hot encoding labels to labels\n",
    "#labels_test = np.argmax(labels_test, axis=1)\n",
    "labels_test = labels_test.astype(str)\n",
    "labels_test"
   ]
  },
  {
   "cell_type": "code",
   "execution_count": 29,
   "metadata": {},
   "outputs": [],
   "source": [
    "#labels_test_class = labels_test *3\n",
    "#labels_test_class = labels_test_class.astype(int)\n",
    "#labels_test_class"
   ]
  },
  {
   "cell_type": "code",
   "execution_count": 35,
   "metadata": {},
   "outputs": [
    {
     "name": "stdout",
     "output_type": "stream",
     "text": [
      "              precision    recall  f1-score   support\n",
      "\n",
      "           0       0.14      0.06      0.08       179\n",
      "           1       0.01      0.17      0.02        12\n",
      "           2       0.51      0.42      0.46       640\n",
      "           3       0.35      0.37      0.36       448\n",
      "\n",
      "    accuracy                           0.35      1279\n",
      "   macro avg       0.25      0.25      0.23      1279\n",
      "weighted avg       0.40      0.35      0.37      1279\n",
      "\n"
     ]
    }
   ],
   "source": [
    "# compute classification metrics\n",
    "#print(classification_report(labels_test_class, predictions_class))\n",
    "print(classification_report(labels_test, labels_pred))"
   ]
  },
  {
   "cell_type": "code",
   "execution_count": 34,
   "metadata": {},
   "outputs": [
    {
     "data": {
      "image/png": "[encoded data removed]",
      "text/plain": [
       "<Figure size 640x480 with 2 Axes>"
      ]
     },
     "metadata": {},
     "output_type": "display_data"
    }
   ],
   "source": [
    "# confusion matrix\n",
    "cm = confusion_matrix(labels_test, labels_pred)\n",
    "sns.heatmap(cm, annot=True, fmt='g', cmap='Blues')\n",
    "plt.xlabel('Predicted')\n",
    "plt.ylabel('True')\n",
    "plt.title('Confusion matrix')\n",
    "plt.show()"
   ]
  },
  {
   "cell_type": "code",
   "execution_count": null,
   "metadata": {},
   "outputs": [
    {
     "data": {
      "text/plain": [
       "array([2, 1, 1, ..., 1, 0, 0])"
      ]
     },
     "execution_count": 60,
     "metadata": {},
     "output_type": "execute_result"
    }
   ],
   "source": [
    "labels_train_class = labels_train *3\n",
    "labels_train_class = labels_train_class.astype(int)\n",
    "labels_train_class"
   ]
  }
 ],
 "metadata": {
  "kernelspec": {
   "display_name": "env",
   "language": "python",
   "name": "python3"
  },
  "language_info": {
   "codemirror_mode": {
    "name": "ipython",
    "version": 3
   },
   "file_extension": ".py",
   "mimetype": "text/x-python",
   "name": "python",
   "nbconvert_exporter": "python",
   "pygments_lexer": "ipython3",
   "version": "3.10.12"
  },
  "orig_nbformat": 4
 },
 "nbformat": 4,
 "nbformat_minor": 2
}
