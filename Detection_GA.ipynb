{
 "cells": [
  {
   "cell_type": "code",
   "execution_count": 1,
   "metadata": {},
   "outputs": [
    {
     "name": "stderr",
     "output_type": "stream",
     "text": [
      "2023-10-01 14:10:34.321141: I tensorflow/tsl/cuda/cudart_stub.cc:28] Could not find cuda drivers on your machine, GPU will not be used.\n",
      "2023-10-01 14:10:34.352451: E tensorflow/compiler/xla/stream_executor/cuda/cuda_dnn.cc:9342] Unable to register cuDNN factory: Attempting to register factory for plugin cuDNN when one has already been registered\n",
      "2023-10-01 14:10:34.352483: E tensorflow/compiler/xla/stream_executor/cuda/cuda_fft.cc:609] Unable to register cuFFT factory: Attempting to register factory for plugin cuFFT when one has already been registered\n",
      "2023-10-01 14:10:34.352506: E tensorflow/compiler/xla/stream_executor/cuda/cuda_blas.cc:1518] Unable to register cuBLAS factory: Attempting to register factory for plugin cuBLAS when one has already been registered\n",
      "2023-10-01 14:10:34.358598: I tensorflow/tsl/cuda/cudart_stub.cc:28] Could not find cuda drivers on your machine, GPU will not be used.\n",
      "2023-10-01 14:10:34.359014: I tensorflow/core/platform/cpu_feature_guard.cc:182] This TensorFlow binary is optimized to use available CPU instructions in performance-critical operations.\n",
      "To enable the following instructions: AVX2 FMA, in other operations, rebuild TensorFlow with the appropriate compiler flags.\n",
      "2023-10-01 14:10:35.430540: W tensorflow/compiler/tf2tensorrt/utils/py_utils.cc:38] TF-TRT Warning: Could not find TensorRT\n"
     ]
    },
    {
     "data": {
      "text/plain": [
       "<module 'Models.ANN_1' from '/home/davide/Desktop/Alzheimer_detection/Alzheimer_detection/Models/ANN_1.py'>"
      ]
     },
     "execution_count": 1,
     "metadata": {},
     "output_type": "execute_result"
    }
   ],
   "source": [
    "import importlib\n",
    "import numpy as np\n",
    "import pandas as pd\n",
    "import matplotlib.pyplot as plt\n",
    "import seaborn as sns\n",
    "\n",
    "from Utils import Processing\n",
    "from Models import ANN_1\n",
    "\n",
    "from sklearn.metrics import confusion_matrix, classification_report, r2_score, mean_absolute_error, mean_squared_error\n",
    "\n",
    "importlib.reload(Processing)\n",
    "importlib.reload(ANN_1)"
   ]
  },
  {
   "cell_type": "code",
   "execution_count": 2,
   "metadata": {},
   "outputs": [
    {
     "data": {
      "text/plain": [
       "{'ModerateDemented': 1.0,\n",
       " 'VeryMildDemented': 0.008885850991114148,\n",
       " 'MildDemented': 0.05329445078399054,\n",
       " 'NonDemented': 0.0}"
      ]
     },
     "execution_count": 2,
     "metadata": {},
     "output_type": "execute_result"
    }
   ],
   "source": [
    "class_weight=Processing.class_weights()\n",
    "class_weight"
   ]
  },
  {
   "cell_type": "code",
   "execution_count": 3,
   "metadata": {},
   "outputs": [],
   "source": [
    "X_train = np.load('PCA_Data/X_train_pca.npy')\n",
    "y_train = np.load('PCA_Data/y_train.npy')\n",
    "labels_train = np.load('PCA_Data/labels_list_train.npy')\n",
    "\n",
    "X_test = np.load('PCA_Data/X_test_pca.npy')\n",
    "y_test = np.load('PCA_Data/y_test.npy')\n",
    "labels_test = np.load('PCA_Data/labels_list_test.npy')"
   ]
  },
  {
   "cell_type": "code",
   "execution_count": 4,
   "metadata": {},
   "outputs": [
    {
     "data": {
      "text/plain": [
       "array([[0.74587869],\n",
       "       [0.62354802],\n",
       "       [0.62354802],\n",
       "       ...,\n",
       "       [0.62354802],\n",
       "       [0.62354802],\n",
       "       [0.74587869]])"
      ]
     },
     "execution_count": 4,
     "metadata": {},
     "output_type": "execute_result"
    }
   ],
   "source": [
    "y_train = y_train ** 0.1\n",
    "y_train"
   ]
  },
  {
   "cell_type": "code",
   "execution_count": 5,
   "metadata": {},
   "outputs": [
    {
     "data": {
      "text/plain": [
       "1.0"
      ]
     },
     "execution_count": 5,
     "metadata": {},
     "output_type": "execute_result"
    }
   ],
   "source": [
    "y_train.max()"
   ]
  },
  {
   "cell_type": "code",
   "execution_count": 6,
   "metadata": {},
   "outputs": [],
   "source": [
    "#df_label_weight = pd.DataFrame(labels_train)\n",
    "#df_label_weight"
   ]
  },
  {
   "cell_type": "code",
   "execution_count": 7,
   "metadata": {},
   "outputs": [
    {
     "data": {
      "text/html": [
       "<style>#sk-container-id-1 {color: black;}#sk-container-id-1 pre{padding: 0;}#sk-container-id-1 div.sk-toggleable {background-color: white;}#sk-container-id-1 label.sk-toggleable__label {cursor: pointer;display: block;width: 100%;margin-bottom: 0;padding: 0.3em;box-sizing: border-box;text-align: center;}#sk-container-id-1 label.sk-toggleable__label-arrow:before {content: \"▸\";float: left;margin-right: 0.25em;color: #696969;}#sk-container-id-1 label.sk-toggleable__label-arrow:hover:before {color: black;}#sk-container-id-1 div.sk-estimator:hover label.sk-toggleable__label-arrow:before {color: black;}#sk-container-id-1 div.sk-toggleable__content {max-height: 0;max-width: 0;overflow: hidden;text-align: left;background-color: #f0f8ff;}#sk-container-id-1 div.sk-toggleable__content pre {margin: 0.2em;color: black;border-radius: 0.25em;background-color: #f0f8ff;}#sk-container-id-1 input.sk-toggleable__control:checked~div.sk-toggleable__content {max-height: 200px;max-width: 100%;overflow: auto;}#sk-container-id-1 input.sk-toggleable__control:checked~label.sk-toggleable__label-arrow:before {content: \"▾\";}#sk-container-id-1 div.sk-estimator input.sk-toggleable__control:checked~label.sk-toggleable__label {background-color: #d4ebff;}#sk-container-id-1 div.sk-label input.sk-toggleable__control:checked~label.sk-toggleable__label {background-color: #d4ebff;}#sk-container-id-1 input.sk-hidden--visually {border: 0;clip: rect(1px 1px 1px 1px);clip: rect(1px, 1px, 1px, 1px);height: 1px;margin: -1px;overflow: hidden;padding: 0;position: absolute;width: 1px;}#sk-container-id-1 div.sk-estimator {font-family: monospace;background-color: #f0f8ff;border: 1px dotted black;border-radius: 0.25em;box-sizing: border-box;margin-bottom: 0.5em;}#sk-container-id-1 div.sk-estimator:hover {background-color: #d4ebff;}#sk-container-id-1 div.sk-parallel-item::after {content: \"\";width: 100%;border-bottom: 1px solid gray;flex-grow: 1;}#sk-container-id-1 div.sk-label:hover label.sk-toggleable__label {background-color: #d4ebff;}#sk-container-id-1 div.sk-serial::before {content: \"\";position: absolute;border-left: 1px solid gray;box-sizing: border-box;top: 0;bottom: 0;left: 50%;z-index: 0;}#sk-container-id-1 div.sk-serial {display: flex;flex-direction: column;align-items: center;background-color: white;padding-right: 0.2em;padding-left: 0.2em;position: relative;}#sk-container-id-1 div.sk-item {position: relative;z-index: 1;}#sk-container-id-1 div.sk-parallel {display: flex;align-items: stretch;justify-content: center;background-color: white;position: relative;}#sk-container-id-1 div.sk-item::before, #sk-container-id-1 div.sk-parallel-item::before {content: \"\";position: absolute;border-left: 1px solid gray;box-sizing: border-box;top: 0;bottom: 0;left: 50%;z-index: -1;}#sk-container-id-1 div.sk-parallel-item {display: flex;flex-direction: column;z-index: 1;position: relative;background-color: white;}#sk-container-id-1 div.sk-parallel-item:first-child::after {align-self: flex-end;width: 50%;}#sk-container-id-1 div.sk-parallel-item:last-child::after {align-self: flex-start;width: 50%;}#sk-container-id-1 div.sk-parallel-item:only-child::after {width: 0;}#sk-container-id-1 div.sk-dashed-wrapped {border: 1px dashed gray;margin: 0 0.4em 0.5em 0.4em;box-sizing: border-box;padding-bottom: 0.4em;background-color: white;}#sk-container-id-1 div.sk-label label {font-family: monospace;font-weight: bold;display: inline-block;line-height: 1.2em;}#sk-container-id-1 div.sk-label-container {text-align: center;}#sk-container-id-1 div.sk-container {/* jupyter's `normalize.less` sets `[hidden] { display: none; }` but bootstrap.min.css set `[hidden] { display: none !important; }` so we also need the `!important` here to be able to override the default hidden behavior on the sphinx rendered scikit-learn.org. See: https://github.com/scikit-learn/scikit-learn/issues/21755 */display: inline-block !important;position: relative;}#sk-container-id-1 div.sk-text-repr-fallback {display: none;}</style><div id=\"sk-container-id-1\" class=\"sk-top-container\"><div class=\"sk-text-repr-fallback\"><pre>StandardScaler()</pre><b>In a Jupyter environment, please rerun this cell to show the HTML representation or trust the notebook. <br />On GitHub, the HTML representation is unable to render, please try loading this page with nbviewer.org.</b></div><div class=\"sk-container\" hidden><div class=\"sk-item\"><div class=\"sk-estimator sk-toggleable\"><input class=\"sk-toggleable__control sk-hidden--visually\" id=\"sk-estimator-id-1\" type=\"checkbox\" checked><label for=\"sk-estimator-id-1\" class=\"sk-toggleable__label sk-toggleable__label-arrow\">StandardScaler</label><div class=\"sk-toggleable__content\"><pre>StandardScaler()</pre></div></div></div></div></div>"
      ],
      "text/plain": [
       "StandardScaler()"
      ]
     },
     "execution_count": 7,
     "metadata": {},
     "output_type": "execute_result"
    }
   ],
   "source": [
    "# normalize with min-max normalization using sklearn\n",
    "from sklearn.preprocessing import MinMaxScaler, StandardScaler\n",
    "scaler = StandardScaler()\n",
    "scaler.fit(X_train)"
   ]
  },
  {
   "cell_type": "code",
   "execution_count": 8,
   "metadata": {},
   "outputs": [],
   "source": [
    "# X_train = X_train.reshape(-1, 27, 27)\n",
    "# X_test = X_test.reshape(-1, 27, 27)\n",
    "# normalize each image with min-max normalization\n",
    "#for i in range(len(X_train)):\n",
    "#    max = X_train[i].max()\n",
    "#    min = X_train[i].min()\n",
    "#    X_train[i] = (X_train[i] - min) / (max - min)\n",
    "#\n",
    "#for i in range(len(X_test)):\n",
    "#    max = X_test[i].max()\n",
    "#    min = X_test[i].min()\n",
    "#    X_test[i] = (X_test[i] - min) / (max - min)"
   ]
  },
  {
   "cell_type": "code",
   "execution_count": 9,
   "metadata": {},
   "outputs": [],
   "source": [
    "validation_percentage = 0.5\n",
    "X_val = X_train[int(1-validation_percentage * len(X_train)):]\n",
    "X_train = X_train[:int(1-validation_percentage * len(X_train))]\n",
    "y_val = y_train[int(1-validation_percentage * len(y_train)):]\n",
    "y_train = y_train[:int(1-validation_percentage * len(y_train))]\n",
    "labels_val = labels_train[int(1-validation_percentage * len(labels_train)):]\n",
    "labels_train = labels_train[:int(1-validation_percentage * len(labels_train))]"
   ]
  },
  {
   "cell_type": "code",
   "execution_count": 10,
   "metadata": {},
   "outputs": [],
   "source": [
    "# one hot encoding df_labels_\n",
    "df_labels_train = pd.DataFrame(labels_train, columns=['label'])\n",
    "df_labels_train = pd.get_dummies(df_labels_train['label'])\n",
    "df_labels_train = df_labels_train.astype(int)\n",
    "df_labels_train = df_labels_train[['NonDemented', 'VeryMildDemented', 'MildDemented', \"ModerateDemented\"]]\n",
    "\n",
    "df_labels_val = pd.DataFrame(labels_val, columns=['label'])\n",
    "df_labels_val = pd.get_dummies(df_labels_val['label'])\n",
    "df_labels_val = df_labels_val.astype(int)\n",
    "df_labels_val = df_labels_val[['NonDemented', 'VeryMildDemented', 'MildDemented', \"ModerateDemented\"]]\n",
    "\n",
    "df_labels_test = pd.DataFrame(labels_test, columns=['label'])\n",
    "df_labels_test = pd.get_dummies(df_labels_test['label'])\n",
    "df_labels_test = df_labels_test.astype(int)\n",
    "df_labels_test = df_labels_test[['NonDemented', 'VeryMildDemented', 'MildDemented', \"ModerateDemented\"]]"
   ]
  },
  {
   "cell_type": "code",
   "execution_count": 11,
   "metadata": {},
   "outputs": [],
   "source": [
    "df_train = pd.DataFrame(X_train)\n",
    "df_val = pd.DataFrame(X_val)\n",
    "df_test = pd.DataFrame(X_test)"
   ]
  },
  {
   "cell_type": "code",
   "execution_count": 12,
   "metadata": {},
   "outputs": [],
   "source": [
    "df_train_scaled = pd.DataFrame(scaler.transform(df_train))\n",
    "df_val_scaled = pd.DataFrame(scaler.transform(df_val))\n",
    "df_test_scaled = pd.DataFrame(scaler.transform(df_test))"
   ]
  },
  {
   "cell_type": "code",
   "execution_count": 13,
   "metadata": {},
   "outputs": [
    {
     "data": {
      "text/html": [
       "<div>\n",
       "<style scoped>\n",
       "    .dataframe tbody tr th:only-of-type {\n",
       "        vertical-align: middle;\n",
       "    }\n",
       "\n",
       "    .dataframe tbody tr th {\n",
       "        vertical-align: top;\n",
       "    }\n",
       "\n",
       "    .dataframe thead th {\n",
       "        text-align: right;\n",
       "    }\n",
       "</style>\n",
       "<table border=\"1\" class=\"dataframe\">\n",
       "  <thead>\n",
       "    <tr style=\"text-align: right;\">\n",
       "      <th></th>\n",
       "      <th>0</th>\n",
       "      <th>1</th>\n",
       "      <th>2</th>\n",
       "      <th>3</th>\n",
       "      <th>4</th>\n",
       "      <th>5</th>\n",
       "      <th>6</th>\n",
       "      <th>7</th>\n",
       "      <th>8</th>\n",
       "      <th>9</th>\n",
       "      <th>...</th>\n",
       "      <th>719</th>\n",
       "      <th>720</th>\n",
       "      <th>721</th>\n",
       "      <th>722</th>\n",
       "      <th>723</th>\n",
       "      <th>724</th>\n",
       "      <th>725</th>\n",
       "      <th>726</th>\n",
       "      <th>727</th>\n",
       "      <th>728</th>\n",
       "    </tr>\n",
       "  </thead>\n",
       "  <tbody>\n",
       "    <tr>\n",
       "      <th>0</th>\n",
       "      <td>-0.679516</td>\n",
       "      <td>0.009893</td>\n",
       "      <td>-0.772439</td>\n",
       "      <td>0.399707</td>\n",
       "      <td>1.147609</td>\n",
       "      <td>-0.258136</td>\n",
       "      <td>-0.179097</td>\n",
       "      <td>0.106501</td>\n",
       "      <td>-0.545358</td>\n",
       "      <td>0.211390</td>\n",
       "      <td>...</td>\n",
       "      <td>-0.399347</td>\n",
       "      <td>-0.477501</td>\n",
       "      <td>1.949948</td>\n",
       "      <td>1.545586</td>\n",
       "      <td>-1.111217</td>\n",
       "      <td>-1.021542</td>\n",
       "      <td>-1.315842</td>\n",
       "      <td>-0.376497</td>\n",
       "      <td>0.381980</td>\n",
       "      <td>-0.387918</td>\n",
       "    </tr>\n",
       "    <tr>\n",
       "      <th>1</th>\n",
       "      <td>-0.212022</td>\n",
       "      <td>-0.950237</td>\n",
       "      <td>-1.334794</td>\n",
       "      <td>-0.564601</td>\n",
       "      <td>0.374589</td>\n",
       "      <td>-1.314234</td>\n",
       "      <td>0.079849</td>\n",
       "      <td>2.411654</td>\n",
       "      <td>-0.569428</td>\n",
       "      <td>-2.019876</td>\n",
       "      <td>...</td>\n",
       "      <td>-1.104447</td>\n",
       "      <td>-0.214066</td>\n",
       "      <td>-0.326975</td>\n",
       "      <td>-0.053153</td>\n",
       "      <td>-0.144306</td>\n",
       "      <td>0.649506</td>\n",
       "      <td>0.116568</td>\n",
       "      <td>0.052974</td>\n",
       "      <td>1.047673</td>\n",
       "      <td>0.525500</td>\n",
       "    </tr>\n",
       "    <tr>\n",
       "      <th>2</th>\n",
       "      <td>1.600569</td>\n",
       "      <td>0.714565</td>\n",
       "      <td>0.493042</td>\n",
       "      <td>-1.622309</td>\n",
       "      <td>-0.620615</td>\n",
       "      <td>-1.415203</td>\n",
       "      <td>-0.889979</td>\n",
       "      <td>-0.718949</td>\n",
       "      <td>0.978008</td>\n",
       "      <td>0.331619</td>\n",
       "      <td>...</td>\n",
       "      <td>-0.449442</td>\n",
       "      <td>-0.510083</td>\n",
       "      <td>0.130651</td>\n",
       "      <td>0.498805</td>\n",
       "      <td>-0.772928</td>\n",
       "      <td>-0.423373</td>\n",
       "      <td>-0.967058</td>\n",
       "      <td>-0.368068</td>\n",
       "      <td>-2.217040</td>\n",
       "      <td>0.957270</td>\n",
       "    </tr>\n",
       "    <tr>\n",
       "      <th>3</th>\n",
       "      <td>-0.700215</td>\n",
       "      <td>2.219761</td>\n",
       "      <td>0.038706</td>\n",
       "      <td>-1.180016</td>\n",
       "      <td>0.290513</td>\n",
       "      <td>1.418285</td>\n",
       "      <td>1.064722</td>\n",
       "      <td>2.057123</td>\n",
       "      <td>0.923677</td>\n",
       "      <td>-0.290236</td>\n",
       "      <td>...</td>\n",
       "      <td>-1.372191</td>\n",
       "      <td>0.298311</td>\n",
       "      <td>-0.149917</td>\n",
       "      <td>-1.012201</td>\n",
       "      <td>-1.263251</td>\n",
       "      <td>-0.379964</td>\n",
       "      <td>1.242228</td>\n",
       "      <td>1.762233</td>\n",
       "      <td>0.460587</td>\n",
       "      <td>-0.926380</td>\n",
       "    </tr>\n",
       "    <tr>\n",
       "      <th>4</th>\n",
       "      <td>1.100655</td>\n",
       "      <td>-2.251278</td>\n",
       "      <td>0.991363</td>\n",
       "      <td>-0.098721</td>\n",
       "      <td>1.865615</td>\n",
       "      <td>2.353958</td>\n",
       "      <td>-1.215676</td>\n",
       "      <td>0.511503</td>\n",
       "      <td>-0.294789</td>\n",
       "      <td>1.796794</td>\n",
       "      <td>...</td>\n",
       "      <td>1.070932</td>\n",
       "      <td>2.157192</td>\n",
       "      <td>1.204932</td>\n",
       "      <td>0.258878</td>\n",
       "      <td>0.995908</td>\n",
       "      <td>1.554133</td>\n",
       "      <td>-1.673099</td>\n",
       "      <td>0.331579</td>\n",
       "      <td>0.917581</td>\n",
       "      <td>2.256405</td>\n",
       "    </tr>\n",
       "    <tr>\n",
       "      <th>...</th>\n",
       "      <td>...</td>\n",
       "      <td>...</td>\n",
       "      <td>...</td>\n",
       "      <td>...</td>\n",
       "      <td>...</td>\n",
       "      <td>...</td>\n",
       "      <td>...</td>\n",
       "      <td>...</td>\n",
       "      <td>...</td>\n",
       "      <td>...</td>\n",
       "      <td>...</td>\n",
       "      <td>...</td>\n",
       "      <td>...</td>\n",
       "      <td>...</td>\n",
       "      <td>...</td>\n",
       "      <td>...</td>\n",
       "      <td>...</td>\n",
       "      <td>...</td>\n",
       "      <td>...</td>\n",
       "      <td>...</td>\n",
       "      <td>...</td>\n",
       "    </tr>\n",
       "    <tr>\n",
       "      <th>2557</th>\n",
       "      <td>0.983489</td>\n",
       "      <td>-2.119878</td>\n",
       "      <td>0.926924</td>\n",
       "      <td>0.019025</td>\n",
       "      <td>1.101508</td>\n",
       "      <td>2.013256</td>\n",
       "      <td>-0.571810</td>\n",
       "      <td>0.934419</td>\n",
       "      <td>1.027950</td>\n",
       "      <td>2.545092</td>\n",
       "      <td>...</td>\n",
       "      <td>0.789166</td>\n",
       "      <td>1.108572</td>\n",
       "      <td>0.521303</td>\n",
       "      <td>-1.509278</td>\n",
       "      <td>0.796519</td>\n",
       "      <td>1.007905</td>\n",
       "      <td>0.152908</td>\n",
       "      <td>-0.018276</td>\n",
       "      <td>0.277466</td>\n",
       "      <td>0.848824</td>\n",
       "    </tr>\n",
       "    <tr>\n",
       "      <th>2558</th>\n",
       "      <td>-1.105541</td>\n",
       "      <td>1.010022</td>\n",
       "      <td>-0.271332</td>\n",
       "      <td>0.077020</td>\n",
       "      <td>0.964062</td>\n",
       "      <td>0.935141</td>\n",
       "      <td>0.745150</td>\n",
       "      <td>0.867835</td>\n",
       "      <td>-0.235276</td>\n",
       "      <td>1.126479</td>\n",
       "      <td>...</td>\n",
       "      <td>0.323204</td>\n",
       "      <td>0.788777</td>\n",
       "      <td>-1.130922</td>\n",
       "      <td>0.278074</td>\n",
       "      <td>-0.855852</td>\n",
       "      <td>-1.038941</td>\n",
       "      <td>-0.091863</td>\n",
       "      <td>0.040030</td>\n",
       "      <td>0.554795</td>\n",
       "      <td>0.182240</td>\n",
       "    </tr>\n",
       "    <tr>\n",
       "      <th>2559</th>\n",
       "      <td>-0.672872</td>\n",
       "      <td>1.443915</td>\n",
       "      <td>-0.233345</td>\n",
       "      <td>0.174740</td>\n",
       "      <td>1.198415</td>\n",
       "      <td>-0.224962</td>\n",
       "      <td>-0.740374</td>\n",
       "      <td>2.185965</td>\n",
       "      <td>-1.344516</td>\n",
       "      <td>0.356606</td>\n",
       "      <td>...</td>\n",
       "      <td>-0.452113</td>\n",
       "      <td>-1.050842</td>\n",
       "      <td>-0.283656</td>\n",
       "      <td>0.693515</td>\n",
       "      <td>-0.160676</td>\n",
       "      <td>0.523398</td>\n",
       "      <td>-0.551971</td>\n",
       "      <td>0.071084</td>\n",
       "      <td>1.962421</td>\n",
       "      <td>0.173236</td>\n",
       "    </tr>\n",
       "    <tr>\n",
       "      <th>2560</th>\n",
       "      <td>1.484038</td>\n",
       "      <td>-0.752901</td>\n",
       "      <td>1.662007</td>\n",
       "      <td>0.814870</td>\n",
       "      <td>1.760754</td>\n",
       "      <td>1.584395</td>\n",
       "      <td>-0.622803</td>\n",
       "      <td>0.469173</td>\n",
       "      <td>-0.288723</td>\n",
       "      <td>1.250041</td>\n",
       "      <td>...</td>\n",
       "      <td>-0.851404</td>\n",
       "      <td>0.138356</td>\n",
       "      <td>-0.169623</td>\n",
       "      <td>-0.424483</td>\n",
       "      <td>-1.138045</td>\n",
       "      <td>-0.462416</td>\n",
       "      <td>-0.342190</td>\n",
       "      <td>-0.849653</td>\n",
       "      <td>-0.733235</td>\n",
       "      <td>0.884880</td>\n",
       "    </tr>\n",
       "    <tr>\n",
       "      <th>2561</th>\n",
       "      <td>1.786421</td>\n",
       "      <td>0.585976</td>\n",
       "      <td>0.884241</td>\n",
       "      <td>-0.467188</td>\n",
       "      <td>-0.251120</td>\n",
       "      <td>-2.207035</td>\n",
       "      <td>0.723197</td>\n",
       "      <td>0.189236</td>\n",
       "      <td>-0.496393</td>\n",
       "      <td>-0.983038</td>\n",
       "      <td>...</td>\n",
       "      <td>0.410295</td>\n",
       "      <td>0.249239</td>\n",
       "      <td>-1.018192</td>\n",
       "      <td>-0.386047</td>\n",
       "      <td>-1.962452</td>\n",
       "      <td>-1.585426</td>\n",
       "      <td>-0.516580</td>\n",
       "      <td>1.407239</td>\n",
       "      <td>0.881362</td>\n",
       "      <td>-0.016453</td>\n",
       "    </tr>\n",
       "  </tbody>\n",
       "</table>\n",
       "<p>2562 rows × 729 columns</p>\n",
       "</div>"
      ],
      "text/plain": [
       "           0         1         2         3         4         5         6    \\\n",
       "0    -0.679516  0.009893 -0.772439  0.399707  1.147609 -0.258136 -0.179097   \n",
       "1    -0.212022 -0.950237 -1.334794 -0.564601  0.374589 -1.314234  0.079849   \n",
       "2     1.600569  0.714565  0.493042 -1.622309 -0.620615 -1.415203 -0.889979   \n",
       "3    -0.700215  2.219761  0.038706 -1.180016  0.290513  1.418285  1.064722   \n",
       "4     1.100655 -2.251278  0.991363 -0.098721  1.865615  2.353958 -1.215676   \n",
       "...        ...       ...       ...       ...       ...       ...       ...   \n",
       "2557  0.983489 -2.119878  0.926924  0.019025  1.101508  2.013256 -0.571810   \n",
       "2558 -1.105541  1.010022 -0.271332  0.077020  0.964062  0.935141  0.745150   \n",
       "2559 -0.672872  1.443915 -0.233345  0.174740  1.198415 -0.224962 -0.740374   \n",
       "2560  1.484038 -0.752901  1.662007  0.814870  1.760754  1.584395 -0.622803   \n",
       "2561  1.786421  0.585976  0.884241 -0.467188 -0.251120 -2.207035  0.723197   \n",
       "\n",
       "           7         8         9    ...       719       720       721  \\\n",
       "0     0.106501 -0.545358  0.211390  ... -0.399347 -0.477501  1.949948   \n",
       "1     2.411654 -0.569428 -2.019876  ... -1.104447 -0.214066 -0.326975   \n",
       "2    -0.718949  0.978008  0.331619  ... -0.449442 -0.510083  0.130651   \n",
       "3     2.057123  0.923677 -0.290236  ... -1.372191  0.298311 -0.149917   \n",
       "4     0.511503 -0.294789  1.796794  ...  1.070932  2.157192  1.204932   \n",
       "...        ...       ...       ...  ...       ...       ...       ...   \n",
       "2557  0.934419  1.027950  2.545092  ...  0.789166  1.108572  0.521303   \n",
       "2558  0.867835 -0.235276  1.126479  ...  0.323204  0.788777 -1.130922   \n",
       "2559  2.185965 -1.344516  0.356606  ... -0.452113 -1.050842 -0.283656   \n",
       "2560  0.469173 -0.288723  1.250041  ... -0.851404  0.138356 -0.169623   \n",
       "2561  0.189236 -0.496393 -0.983038  ...  0.410295  0.249239 -1.018192   \n",
       "\n",
       "           722       723       724       725       726       727       728  \n",
       "0     1.545586 -1.111217 -1.021542 -1.315842 -0.376497  0.381980 -0.387918  \n",
       "1    -0.053153 -0.144306  0.649506  0.116568  0.052974  1.047673  0.525500  \n",
       "2     0.498805 -0.772928 -0.423373 -0.967058 -0.368068 -2.217040  0.957270  \n",
       "3    -1.012201 -1.263251 -0.379964  1.242228  1.762233  0.460587 -0.926380  \n",
       "4     0.258878  0.995908  1.554133 -1.673099  0.331579  0.917581  2.256405  \n",
       "...        ...       ...       ...       ...       ...       ...       ...  \n",
       "2557 -1.509278  0.796519  1.007905  0.152908 -0.018276  0.277466  0.848824  \n",
       "2558  0.278074 -0.855852 -1.038941 -0.091863  0.040030  0.554795  0.182240  \n",
       "2559  0.693515 -0.160676  0.523398 -0.551971  0.071084  1.962421  0.173236  \n",
       "2560 -0.424483 -1.138045 -0.462416 -0.342190 -0.849653 -0.733235  0.884880  \n",
       "2561 -0.386047 -1.962452 -1.585426 -0.516580  1.407239  0.881362 -0.016453  \n",
       "\n",
       "[2562 rows x 729 columns]"
      ]
     },
     "execution_count": 13,
     "metadata": {},
     "output_type": "execute_result"
    }
   ],
   "source": [
    "df_train_scaled"
   ]
  },
  {
   "cell_type": "code",
   "execution_count": 14,
   "metadata": {},
   "outputs": [
    {
     "name": "stdout",
     "output_type": "stream",
     "text": [
      "(2562, 729)\n",
      "(2562, 1)\n",
      "(2559, 729)\n",
      "(1279, 729)\n"
     ]
    }
   ],
   "source": [
    "print(X_train.shape)\n",
    "print(y_train.shape)\n",
    "print(X_val.shape)\n",
    "print(X_test.shape)"
   ]
  },
  {
   "cell_type": "code",
   "execution_count": 15,
   "metadata": {},
   "outputs": [
    {
     "name": "stdout",
     "output_type": "stream",
     "text": [
      "2562\n",
      "2559\n"
     ]
    }
   ],
   "source": [
    "print(len(df_train_scaled))\n",
    "print(len(df_val_scaled))"
   ]
  },
  {
   "cell_type": "code",
   "execution_count": 16,
   "metadata": {},
   "outputs": [],
   "source": [
    "#importlib.reload(ConvMassimo)\n",
    "#model = ConvMassimo.build_Model(input_shape=(27,27,1))\n",
    "#model.summary()"
   ]
  },
  {
   "cell_type": "code",
   "execution_count": 17,
   "metadata": {},
   "outputs": [],
   "source": [
    "import pygad"
   ]
  },
  {
   "cell_type": "code",
   "execution_count": 18,
   "metadata": {},
   "outputs": [
    {
     "name": "stdout",
     "output_type": "stream",
     "text": [
      "n_elements =  2562\n"
     ]
    }
   ],
   "source": [
    "n_elements = len(y_train)\n",
    "print(\"n_elements = \", n_elements)\n",
    "n_generations = 15\n",
    "initial_genes_values = y_train"
   ]
  },
  {
   "cell_type": "code",
   "execution_count": 19,
   "metadata": {},
   "outputs": [],
   "source": [
    "last_fitness = 0\n",
    "solution = None\n",
    "\n",
    "def on_start(ga_instance):\n",
    "    pass\n",
    "    #print(\"on_start()\")\n",
    "\n",
    "def on_fitness(ga_instance, population_fitness):\n",
    "    pass\n",
    "    #print(\"on_fitness()\")\n",
    "\n",
    "def on_parents(ga_instance, selected_parents):\n",
    "    pass\n",
    "    #print(\"on_parents()\")\n",
    "\n",
    "def on_crossover(ga_instance, offspring_crossover):\n",
    "    pass\n",
    "    #print(\"on_crossover()\")\n",
    "\n",
    "def on_mutation(ga_instance, offspring_mutation):\n",
    "    pass\n",
    "    #print(\"on_mutation()\")\n",
    "\n",
    "def on_generation(ga_instance):\n",
    "    global last_fitness\n",
    "    print(\"Generation = {generation}, Best Fitness = {fitness}, Change = {change}\".format(\n",
    "        generation=ga_instance.generations_completed,\n",
    "        fitness=ga_instance.best_solution(pop_fitness=ga_instance.last_generation_fitness)[1],\n",
    "        change=ga_instance.best_solution(pop_fitness=ga_instance.last_generation_fitness)[1] - last_fitness\n",
    "        )\n",
    "    )\n",
    "    last_fitness = ga_instance.best_solution(pop_fitness=ga_instance.last_generation_fitness)[1]\n",
    "\n",
    "def on_stop(ga_instance, last_population_fitness):\n",
    "    global solution\n",
    "    solution, solution_fitness, solution_idx = ga_instance.best_solution()\n",
    "    print(\"Fitness value of the best solution = {solution_fitness}\".format(solution_fitness=solution_fitness))\n",
    "    if ga_instance.best_solution_generation != -1:\n",
    "        print(\"Best fitness value reached after {best_solution_generation} generations.\".format(best_solution_generation=ga_instance.best_solution_generation))\n",
    "        print(\"Parameters of the best solution : {solution}\".format(solution=solution))"
   ]
  },
  {
   "cell_type": "code",
   "execution_count": 20,
   "metadata": {},
   "outputs": [],
   "source": [
    "def fitness_func(ga_instance, solution, solution_idx):\n",
    "    model = ANN_1.build_Model(input_shape=(27 * 27))\n",
    "    global df_train_scaled\n",
    "    global df_labels_train\n",
    "    global df_val_scaled\n",
    "    global df_labels_val\n",
    "    hystory = model.fit(\n",
    "        x= df_train_scaled.values,\n",
    "        y= df_labels_train.values,\n",
    "        epochs=25,\n",
    "        batch_size=128,\n",
    "        shuffle=True,\n",
    "        verbose=0,\n",
    "        validation_data=(df_val_scaled.values, df_labels_val.values),\n",
    "        sample_weight=solution\n",
    "    )\n",
    "    accuracy = hystory.history['categorical_accuracy'][-1]\n",
    "    val_accuracy = hystory.history['val_categorical_accuracy'][-1]\n",
    "\n",
    "    fitness = (accuracy + val_accuracy) - np.abs(accuracy - val_accuracy) # TO MAXIMIZE\n",
    "\n",
    "    return fitness"
   ]
  },
  {
   "cell_type": "code",
   "execution_count": 21,
   "metadata": {},
   "outputs": [],
   "source": [
    "num_generations = n_generations\n",
    "num_parents_mating = 5\n",
    "\n",
    "fitness_function = fitness_func\n",
    "\n",
    "sol_per_pop = 10\n",
    "num_genes = n_elements\n",
    "\n",
    "init_range_low = 0\n",
    "init_range_high = 1\n",
    "\n",
    "parent_selection_type = \"sss\"\n",
    "keep_parents = 2 #-1 \n",
    "\n",
    "crossover_type = \"uniform\"\n",
    "crossover_probability=0.75\n",
    "\n",
    "mutation_type = \"random\"\n",
    "mutation_probability = 0.5\n",
    "\n",
    "random_mutation_min_val=0.001\n",
    "random_mutation_max_val=0.25"
   ]
  },
  {
   "cell_type": "code",
   "execution_count": 22,
   "metadata": {},
   "outputs": [],
   "source": [
    "gene_space = []\n",
    "\n",
    "for i in range(0,num_genes):\n",
    "    gene_space.append({\"low\":0, \"high\":1,\"step\": 0.01})"
   ]
  },
  {
   "cell_type": "code",
   "execution_count": 23,
   "metadata": {},
   "outputs": [],
   "source": [
    "ga_instance = pygad.GA(num_generations=num_generations,\n",
    "                       num_parents_mating=num_parents_mating,\n",
    "                       fitness_func=fitness_function,\n",
    "                       sol_per_pop=sol_per_pop,\n",
    "                       num_genes=num_genes,\n",
    "                       init_range_low=init_range_low,\n",
    "                       init_range_high=init_range_high,\n",
    "                       parent_selection_type=parent_selection_type,\n",
    "                       keep_parents=keep_parents,\n",
    "                       crossover_type=crossover_type,\n",
    "                       mutation_type=mutation_type,\n",
    "                       #mutation_percent_genes=mutation_percent_genes,\n",
    "                       parallel_processing = ['thread', 8],\n",
    "                       on_start=on_start,\n",
    "                       on_fitness=on_fitness,\n",
    "                       on_parents=on_parents,\n",
    "                       on_crossover=on_crossover,\n",
    "                       on_mutation=on_mutation,\n",
    "                       on_generation=on_generation,\n",
    "                       on_stop=on_stop,\n",
    "                       #stop_criteria=[\"saturate_15\"],\n",
    "                       allow_duplicate_genes=True,\n",
    "                       gene_space = gene_space,\n",
    "                       #save_solutions=True,\n",
    "                       random_mutation_min_val= random_mutation_min_val,\n",
    "                       random_mutation_max_val= random_mutation_max_val,\n",
    "                       gene_type = float )\n",
    "                       #with precision, for every gene gene_type=[int, float, numpy.float16, numpy.int8, numpy.float]\n",
    "                       #gene_type=float)"
   ]
  },
  {
   "cell_type": "code",
   "execution_count": 24,
   "metadata": {},
   "outputs": [
    {
     "name": "stdout",
     "output_type": "stream",
     "text": [
      "Generation = 1, Best Fitness = 0.8143806457519531, Change = 0.8143806457519531\n",
      "Generation = 2, Best Fitness = 0.8284485936164856, Change = 0.01406794786453247\n",
      "Generation = 3, Best Fitness = 0.8284485936164856, Change = 0.0\n",
      "Generation = 4, Best Fitness = 0.8292301893234253, Change = 0.0007815957069396973\n",
      "Generation = 5, Best Fitness = 0.8292301893234253, Change = 0.0\n",
      "Generation = 6, Best Fitness = 0.8292301893234253, Change = 0.0\n",
      "Generation = 7, Best Fitness = 0.8292301893234253, Change = 0.0\n",
      "Generation = 8, Best Fitness = 0.8292301893234253, Change = 0.0\n"
     ]
    },
    {
     "ename": "KeyboardInterrupt",
     "evalue": "",
     "output_type": "error",
     "traceback": [
      "\u001b[0;31m---------------------------------------------------------------------------\u001b[0m",
      "\u001b[0;31mKeyboardInterrupt\u001b[0m                         Traceback (most recent call last)",
      "\u001b[1;32m/home/davide/Desktop/Alzheimer_detection/Alzheimer_detection/Detection_GA.ipynb Cell 24\u001b[0m line \u001b[0;36m1\n\u001b[0;32m----> <a href='vscode-notebook-cell:/home/davide/Desktop/Alzheimer_detection/Alzheimer_detection/Detection_GA.ipynb#X40sZmlsZQ%3D%3D?line=0'>1</a>\u001b[0m ga_instance\u001b[39m.\u001b[39;49mrun()\n",
      "File \u001b[0;32m~/Desktop/Alzheimer_detection/Alzheimer_detection/env/lib/python3.10/site-packages/pygad/pygad.py:2116\u001b[0m, in \u001b[0;36mGA.run\u001b[0;34m(self)\u001b[0m\n\u001b[1;32m   2114\u001b[0m \u001b[39mself\u001b[39m\u001b[39m.\u001b[39mprevious_generation_fitness \u001b[39m=\u001b[39m \u001b[39mself\u001b[39m\u001b[39m.\u001b[39mlast_generation_fitness\u001b[39m.\u001b[39mcopy()\n\u001b[1;32m   2115\u001b[0m \u001b[39m# Measuring the fitness of each chromosome in the population. Save the fitness in the last_generation_fitness attribute.\u001b[39;00m\n\u001b[0;32m-> 2116\u001b[0m \u001b[39mself\u001b[39m\u001b[39m.\u001b[39mlast_generation_fitness \u001b[39m=\u001b[39m \u001b[39mself\u001b[39;49m\u001b[39m.\u001b[39;49mcal_pop_fitness()\n\u001b[1;32m   2118\u001b[0m best_solution, best_solution_fitness, best_match_idx \u001b[39m=\u001b[39m \u001b[39mself\u001b[39m\u001b[39m.\u001b[39mbest_solution(\n\u001b[1;32m   2119\u001b[0m     pop_fitness\u001b[39m=\u001b[39m\u001b[39mself\u001b[39m\u001b[39m.\u001b[39mlast_generation_fitness)\n\u001b[1;32m   2121\u001b[0m \u001b[39m# Appending the best solution in the current generation to the best_solutions list.\u001b[39;00m\n",
      "File \u001b[0;32m~/Desktop/Alzheimer_detection/Alzheimer_detection/env/lib/python3.10/site-packages/pygad/pygad.py:1796\u001b[0m, in \u001b[0;36mGA.cal_pop_fitness\u001b[0;34m(self)\u001b[0m\n\u001b[1;32m   1794\u001b[0m \u001b[39m# Check if batch processing is used. If not, then calculate the fitness value for individual solutions.\u001b[39;00m\n\u001b[1;32m   1795\u001b[0m \u001b[39mif\u001b[39;00m \u001b[39mself\u001b[39m\u001b[39m.\u001b[39mfitness_batch_size \u001b[39min\u001b[39;00m [\u001b[39m1\u001b[39m, \u001b[39mNone\u001b[39;00m]:\n\u001b[0;32m-> 1796\u001b[0m     \u001b[39mfor\u001b[39;00m index, fitness \u001b[39min\u001b[39;00m \u001b[39mzip\u001b[39m(solutions_to_submit_indices, executor\u001b[39m.\u001b[39mmap(\u001b[39mself\u001b[39m\u001b[39m.\u001b[39mfitness_func, [\u001b[39mself\u001b[39m]\u001b[39m*\u001b[39m\u001b[39mlen\u001b[39m(solutions_to_submit_indices), solutions_to_submit, solutions_to_submit_indices)):\n\u001b[1;32m   1797\u001b[0m         \u001b[39mif\u001b[39;00m \u001b[39mtype\u001b[39m(fitness) \u001b[39min\u001b[39;00m GA\u001b[39m.\u001b[39msupported_int_float_types:\n\u001b[1;32m   1798\u001b[0m             \u001b[39m# The fitness function returns a single numeric value.\u001b[39;00m\n\u001b[1;32m   1799\u001b[0m             \u001b[39m# This is a single-objective optimization problem.\u001b[39;00m\n\u001b[1;32m   1800\u001b[0m             pop_fitness[index] \u001b[39m=\u001b[39m fitness\n",
      "File \u001b[0;32m/usr/lib/python3.10/concurrent/futures/_base.py:621\u001b[0m, in \u001b[0;36mExecutor.map.<locals>.result_iterator\u001b[0;34m()\u001b[0m\n\u001b[1;32m    618\u001b[0m \u001b[39mwhile\u001b[39;00m fs:\n\u001b[1;32m    619\u001b[0m     \u001b[39m# Careful not to keep a reference to the popped future\u001b[39;00m\n\u001b[1;32m    620\u001b[0m     \u001b[39mif\u001b[39;00m timeout \u001b[39mis\u001b[39;00m \u001b[39mNone\u001b[39;00m:\n\u001b[0;32m--> 621\u001b[0m         \u001b[39myield\u001b[39;00m _result_or_cancel(fs\u001b[39m.\u001b[39;49mpop())\n\u001b[1;32m    622\u001b[0m     \u001b[39melse\u001b[39;00m:\n\u001b[1;32m    623\u001b[0m         \u001b[39myield\u001b[39;00m _result_or_cancel(fs\u001b[39m.\u001b[39mpop(), end_time \u001b[39m-\u001b[39m time\u001b[39m.\u001b[39mmonotonic())\n",
      "File \u001b[0;32m/usr/lib/python3.10/concurrent/futures/_base.py:319\u001b[0m, in \u001b[0;36m_result_or_cancel\u001b[0;34m(***failed resolving arguments***)\u001b[0m\n\u001b[1;32m    317\u001b[0m \u001b[39mtry\u001b[39;00m:\n\u001b[1;32m    318\u001b[0m     \u001b[39mtry\u001b[39;00m:\n\u001b[0;32m--> 319\u001b[0m         \u001b[39mreturn\u001b[39;00m fut\u001b[39m.\u001b[39;49mresult(timeout)\n\u001b[1;32m    320\u001b[0m     \u001b[39mfinally\u001b[39;00m:\n\u001b[1;32m    321\u001b[0m         fut\u001b[39m.\u001b[39mcancel()\n",
      "File \u001b[0;32m/usr/lib/python3.10/concurrent/futures/_base.py:453\u001b[0m, in \u001b[0;36mFuture.result\u001b[0;34m(self, timeout)\u001b[0m\n\u001b[1;32m    450\u001b[0m \u001b[39melif\u001b[39;00m \u001b[39mself\u001b[39m\u001b[39m.\u001b[39m_state \u001b[39m==\u001b[39m FINISHED:\n\u001b[1;32m    451\u001b[0m     \u001b[39mreturn\u001b[39;00m \u001b[39mself\u001b[39m\u001b[39m.\u001b[39m__get_result()\n\u001b[0;32m--> 453\u001b[0m \u001b[39mself\u001b[39;49m\u001b[39m.\u001b[39;49m_condition\u001b[39m.\u001b[39;49mwait(timeout)\n\u001b[1;32m    455\u001b[0m \u001b[39mif\u001b[39;00m \u001b[39mself\u001b[39m\u001b[39m.\u001b[39m_state \u001b[39min\u001b[39;00m [CANCELLED, CANCELLED_AND_NOTIFIED]:\n\u001b[1;32m    456\u001b[0m     \u001b[39mraise\u001b[39;00m CancelledError()\n",
      "File \u001b[0;32m/usr/lib/python3.10/threading.py:320\u001b[0m, in \u001b[0;36mCondition.wait\u001b[0;34m(self, timeout)\u001b[0m\n\u001b[1;32m    318\u001b[0m \u001b[39mtry\u001b[39;00m:    \u001b[39m# restore state no matter what (e.g., KeyboardInterrupt)\u001b[39;00m\n\u001b[1;32m    319\u001b[0m     \u001b[39mif\u001b[39;00m timeout \u001b[39mis\u001b[39;00m \u001b[39mNone\u001b[39;00m:\n\u001b[0;32m--> 320\u001b[0m         waiter\u001b[39m.\u001b[39;49macquire()\n\u001b[1;32m    321\u001b[0m         gotit \u001b[39m=\u001b[39m \u001b[39mTrue\u001b[39;00m\n\u001b[1;32m    322\u001b[0m     \u001b[39melse\u001b[39;00m:\n",
      "\u001b[0;31mKeyboardInterrupt\u001b[0m: "
     ]
    }
   ],
   "source": [
    "ga_instance.run()"
   ]
  },
  {
   "cell_type": "code",
   "execution_count": null,
   "metadata": {},
   "outputs": [
    {
     "name": "stdout",
     "output_type": "stream",
     "text": [
      "Parameters of the best solution : [0.56 0.63 0.34 ... 0.12 0.83 0.85]\n",
      "Fitness value of the best solution = 1.0068720163316094\n",
      "Index of the best solution : 4\n",
      "Best fitness value reached after 10 generations.\n"
     ]
    }
   ],
   "source": [
    "solution, solution_fitness, solution_idx = ga_instance.best_solution()\n",
    "print(\"Parameters of the best solution : {solution}\".format(solution=solution))\n",
    "print(\"Fitness value of the best solution = {solution_fitness}\".format(solution_fitness=solution_fitness))\n",
    "print(\"Index of the best solution : {solution_idx}\".format(solution_idx=solution_idx))\n",
    "if ga_instance.best_solution_generation != -1:    \n",
    "    print(\"Best fitness value reached after {best_solution_generation} generations.\".format(best_solution_generation=ga_instance.best_solution_generation))\n"
   ]
  },
  {
   "cell_type": "code",
   "execution_count": null,
   "metadata": {},
   "outputs": [
    {
     "name": "stderr",
     "output_type": "stream",
     "text": [
      "No artists with labels found to put in legend.  Note that artists whose label start with an underscore are ignored when legend() is called with no argument.\n"
     ]
    },
    {
     "data": {
      "image/png": "[encoded data removed]",
      "text/plain": [
       "<Figure size 640x480 with 1 Axes>"
      ]
     },
     "metadata": {},
     "output_type": "display_data"
    }
   ],
   "source": [
    "ga_instance.plot_fitness(plot_type=\"plot\", linewidth=2, title=\"Generations vs fitness\");"
   ]
  },
  {
   "cell_type": "code",
   "execution_count": null,
   "metadata": {},
   "outputs": [],
   "source": []
  },
  {
   "cell_type": "code",
   "execution_count": null,
   "metadata": {},
   "outputs": [],
   "source": []
  },
  {
   "cell_type": "code",
   "execution_count": null,
   "metadata": {},
   "outputs": [
    {
     "name": "stdout",
     "output_type": "stream",
     "text": [
      "Model: \"model\"\n",
      "_________________________________________________________________\n",
      " Layer (type)                Output Shape              Param #   \n",
      "=================================================================\n",
      " input (InputLayer)          [(None, 729)]             0         \n",
      "                                                                 \n",
      " flatten (Flatten)           (None, 729)               0         \n",
      "                                                                 \n",
      " dense (Dense)               (None, 300)               219000    \n",
      "                                                                 \n",
      " dropout (Dropout)           (None, 300)               0         \n",
      "                                                                 \n",
      " dense_1 (Dense)             (None, 300)               90300     \n",
      "                                                                 \n",
      " dropout_1 (Dropout)         (None, 300)               0         \n",
      "                                                                 \n",
      " dense_2 (Dense)             (None, 200)               60200     \n",
      "                                                                 \n",
      " dropout_2 (Dropout)         (None, 200)               0         \n",
      "                                                                 \n",
      " dense_3 (Dense)             (None, 100)               20100     \n",
      "                                                                 \n",
      " dropout_3 (Dropout)         (None, 100)               0         \n",
      "                                                                 \n",
      " dense_4 (Dense)             (None, 4)                 404       \n",
      "                                                                 \n",
      "=================================================================\n",
      "Total params: 390004 (1.49 MB)\n",
      "Trainable params: 390004 (1.49 MB)\n",
      "Non-trainable params: 0 (0.00 Byte)\n",
      "_________________________________________________________________\n"
     ]
    }
   ],
   "source": [
    "importlib.reload(ANN_1)\n",
    "model = ANN_1.build_Model(input_shape=(27 * 27))\n",
    "model.summary()"
   ]
  },
  {
   "cell_type": "code",
   "execution_count": null,
   "metadata": {},
   "outputs": [
    {
     "name": "stdout",
     "output_type": "stream",
     "text": [
      "Epoch 1/50\n",
      "41/41 [==============================] - 1s 9ms/step - loss: 14.9994 - categorical_accuracy: 0.2705 - val_loss: 15.1514 - val_categorical_accuracy: 0.3243\n",
      "Epoch 2/50\n",
      "41/41 [==============================] - 0s 7ms/step - loss: 14.1081 - categorical_accuracy: 0.3205 - val_loss: 14.2718 - val_categorical_accuracy: 0.3849\n",
      "Epoch 3/50\n",
      "41/41 [==============================] - 0s 8ms/step - loss: 13.2699 - categorical_accuracy: 0.3493 - val_loss: 13.4408 - val_categorical_accuracy: 0.4228\n",
      "Epoch 4/50\n",
      "41/41 [==============================] - 0s 6ms/step - loss: 12.4555 - categorical_accuracy: 0.4032 - val_loss: 12.6521 - val_categorical_accuracy: 0.4455\n",
      "Epoch 5/50\n",
      "41/41 [==============================] - 0s 6ms/step - loss: 11.6964 - categorical_accuracy: 0.4176 - val_loss: 11.8971 - val_categorical_accuracy: 0.4615\n",
      "Epoch 6/50\n",
      "41/41 [==============================] - 0s 6ms/step - loss: 10.9614 - categorical_accuracy: 0.4496 - val_loss: 11.1719 - val_categorical_accuracy: 0.4736\n",
      "Epoch 7/50\n",
      "41/41 [==============================] - 0s 7ms/step - loss: 10.2434 - categorical_accuracy: 0.4614 - val_loss: 10.4815 - val_categorical_accuracy: 0.4787\n",
      "Epoch 8/50\n",
      "41/41 [==============================] - 0s 7ms/step - loss: 9.5691 - categorical_accuracy: 0.4781 - val_loss: 9.8120 - val_categorical_accuracy: 0.4787\n",
      "Epoch 9/50\n",
      "41/41 [==============================] - 0s 6ms/step - loss: 8.9102 - categorical_accuracy: 0.4856 - val_loss: 9.1699 - val_categorical_accuracy: 0.4842\n",
      "Epoch 10/50\n",
      "41/41 [==============================] - 0s 7ms/step - loss: 8.2851 - categorical_accuracy: 0.4856 - val_loss: 8.5592 - val_categorical_accuracy: 0.4865\n",
      "Epoch 11/50\n",
      "41/41 [==============================] - 0s 6ms/step - loss: 7.6881 - categorical_accuracy: 0.5008 - val_loss: 7.9691 - val_categorical_accuracy: 0.4853\n",
      "Epoch 12/50\n",
      "41/41 [==============================] - 0s 9ms/step - loss: 7.1139 - categorical_accuracy: 0.4973 - val_loss: 7.4041 - val_categorical_accuracy: 0.4861\n",
      "Epoch 13/50\n",
      "41/41 [==============================] - 0s 8ms/step - loss: 6.5567 - categorical_accuracy: 0.5160 - val_loss: 6.8675 - val_categorical_accuracy: 0.4873\n",
      "Epoch 14/50\n",
      "41/41 [==============================] - 0s 8ms/step - loss: 6.0368 - categorical_accuracy: 0.5027 - val_loss: 6.3542 - val_categorical_accuracy: 0.4865\n",
      "Epoch 15/50\n",
      "41/41 [==============================] - 0s 6ms/step - loss: 5.5288 - categorical_accuracy: 0.5023 - val_loss: 5.8687 - val_categorical_accuracy: 0.4853\n",
      "Epoch 16/50\n",
      "41/41 [==============================] - 0s 6ms/step - loss: 5.0574 - categorical_accuracy: 0.5020 - val_loss: 5.4094 - val_categorical_accuracy: 0.4865\n",
      "Epoch 17/50\n",
      "41/41 [==============================] - 0s 7ms/step - loss: 4.6055 - categorical_accuracy: 0.5160 - val_loss: 4.9650 - val_categorical_accuracy: 0.4873\n",
      "Epoch 18/50\n",
      "41/41 [==============================] - 0s 6ms/step - loss: 4.1794 - categorical_accuracy: 0.5222 - val_loss: 4.5543 - val_categorical_accuracy: 0.4881\n",
      "Epoch 19/50\n",
      "41/41 [==============================] - 0s 6ms/step - loss: 3.7820 - categorical_accuracy: 0.5180 - val_loss: 4.1624 - val_categorical_accuracy: 0.4881\n",
      "Epoch 20/50\n",
      "41/41 [==============================] - 0s 6ms/step - loss: 3.4065 - categorical_accuracy: 0.5129 - val_loss: 3.7893 - val_categorical_accuracy: 0.4908\n",
      "Epoch 21/50\n",
      "41/41 [==============================] - 0s 6ms/step - loss: 3.0492 - categorical_accuracy: 0.5121 - val_loss: 3.4515 - val_categorical_accuracy: 0.4908\n",
      "Epoch 22/50\n",
      "41/41 [==============================] - 0s 6ms/step - loss: 2.7204 - categorical_accuracy: 0.5121 - val_loss: 3.1352 - val_categorical_accuracy: 0.4912\n",
      "Epoch 23/50\n",
      "41/41 [==============================] - 0s 6ms/step - loss: 2.4141 - categorical_accuracy: 0.5098 - val_loss: 2.8322 - val_categorical_accuracy: 0.4912\n",
      "Epoch 24/50\n",
      "41/41 [==============================] - 0s 6ms/step - loss: 2.1327 - categorical_accuracy: 0.5098 - val_loss: 2.5757 - val_categorical_accuracy: 0.4908\n",
      "Epoch 25/50\n",
      "41/41 [==============================] - 0s 6ms/step - loss: 1.8781 - categorical_accuracy: 0.5094 - val_loss: 2.3175 - val_categorical_accuracy: 0.4908\n",
      "Epoch 26/50\n",
      "41/41 [==============================] - 0s 7ms/step - loss: 1.6465 - categorical_accuracy: 0.5094 - val_loss: 2.1126 - val_categorical_accuracy: 0.4908\n",
      "Epoch 27/50\n",
      "41/41 [==============================] - 0s 6ms/step - loss: 1.4426 - categorical_accuracy: 0.5090 - val_loss: 1.9034 - val_categorical_accuracy: 0.4908\n",
      "Epoch 28/50\n",
      "41/41 [==============================] - 0s 7ms/step - loss: 1.2590 - categorical_accuracy: 0.5090 - val_loss: 1.7411 - val_categorical_accuracy: 0.4908\n",
      "Epoch 29/50\n",
      "41/41 [==============================] - 0s 6ms/step - loss: 1.1032 - categorical_accuracy: 0.5090 - val_loss: 1.5952 - val_categorical_accuracy: 0.4908\n",
      "Epoch 30/50\n",
      "41/41 [==============================] - 0s 6ms/step - loss: 0.9706 - categorical_accuracy: 0.5090 - val_loss: 1.4653 - val_categorical_accuracy: 0.4908\n",
      "Epoch 31/50\n",
      "41/41 [==============================] - 0s 6ms/step - loss: 0.8617 - categorical_accuracy: 0.5090 - val_loss: 1.3709 - val_categorical_accuracy: 0.4908\n",
      "Epoch 32/50\n",
      "41/41 [==============================] - 0s 6ms/step - loss: 0.7769 - categorical_accuracy: 0.5090 - val_loss: 1.2990 - val_categorical_accuracy: 0.4908\n",
      "Epoch 33/50\n",
      "41/41 [==============================] - 0s 6ms/step - loss: 0.7140 - categorical_accuracy: 0.5090 - val_loss: 1.2501 - val_categorical_accuracy: 0.4908\n",
      "Epoch 34/50\n",
      "41/41 [==============================] - 0s 6ms/step - loss: 0.6743 - categorical_accuracy: 0.5090 - val_loss: 1.2171 - val_categorical_accuracy: 0.4908\n",
      "Epoch 35/50\n",
      "41/41 [==============================] - 0s 6ms/step - loss: 0.6530 - categorical_accuracy: 0.5090 - val_loss: 1.1990 - val_categorical_accuracy: 0.4908\n",
      "Epoch 36/50\n",
      "41/41 [==============================] - 0s 6ms/step - loss: 0.6420 - categorical_accuracy: 0.5090 - val_loss: 1.2003 - val_categorical_accuracy: 0.4908\n",
      "Epoch 37/50\n",
      "41/41 [==============================] - 0s 6ms/step - loss: 0.6347 - categorical_accuracy: 0.5090 - val_loss: 1.1838 - val_categorical_accuracy: 0.4908\n",
      "Epoch 38/50\n",
      "41/41 [==============================] - 0s 6ms/step - loss: 0.6284 - categorical_accuracy: 0.5090 - val_loss: 1.1773 - val_categorical_accuracy: 0.4908\n",
      "Epoch 39/50\n",
      "41/41 [==============================] - 0s 6ms/step - loss: 0.6216 - categorical_accuracy: 0.5090 - val_loss: 1.1725 - val_categorical_accuracy: 0.4908\n",
      "Epoch 40/50\n",
      "41/41 [==============================] - 0s 6ms/step - loss: 0.6162 - categorical_accuracy: 0.5090 - val_loss: 1.1637 - val_categorical_accuracy: 0.4908\n",
      "Epoch 41/50\n",
      "41/41 [==============================] - 0s 6ms/step - loss: 0.6109 - categorical_accuracy: 0.5090 - val_loss: 1.1582 - val_categorical_accuracy: 0.4908\n",
      "Epoch 42/50\n",
      "41/41 [==============================] - 0s 6ms/step - loss: 0.6061 - categorical_accuracy: 0.5090 - val_loss: 1.1547 - val_categorical_accuracy: 0.4908\n",
      "Epoch 43/50\n",
      "41/41 [==============================] - 0s 6ms/step - loss: 0.6017 - categorical_accuracy: 0.5090 - val_loss: 1.1500 - val_categorical_accuracy: 0.4908\n",
      "Epoch 44/50\n",
      "41/41 [==============================] - 0s 6ms/step - loss: 0.5975 - categorical_accuracy: 0.5090 - val_loss: 1.1447 - val_categorical_accuracy: 0.4908\n",
      "Epoch 45/50\n",
      "41/41 [==============================] - 0s 6ms/step - loss: 0.5936 - categorical_accuracy: 0.5090 - val_loss: 1.1423 - val_categorical_accuracy: 0.4908\n",
      "Epoch 46/50\n",
      "41/41 [==============================] - 0s 6ms/step - loss: 0.5894 - categorical_accuracy: 0.5090 - val_loss: 1.1390 - val_categorical_accuracy: 0.4908\n",
      "Epoch 47/50\n",
      "41/41 [==============================] - 0s 6ms/step - loss: 0.5861 - categorical_accuracy: 0.5090 - val_loss: 1.1385 - val_categorical_accuracy: 0.4908\n",
      "Epoch 48/50\n",
      "41/41 [==============================] - 0s 6ms/step - loss: 0.5831 - categorical_accuracy: 0.5090 - val_loss: 1.1304 - val_categorical_accuracy: 0.4908\n",
      "Epoch 49/50\n",
      "41/41 [==============================] - 0s 6ms/step - loss: 0.5795 - categorical_accuracy: 0.5090 - val_loss: 1.1247 - val_categorical_accuracy: 0.4908\n",
      "Epoch 50/50\n",
      "41/41 [==============================] - 0s 6ms/step - loss: 0.5767 - categorical_accuracy: 0.5090 - val_loss: 1.1287 - val_categorical_accuracy: 0.4908\n"
     ]
    }
   ],
   "source": [
    "hystory = model.fit(\n",
    "    x=df_train_scaled.values,\n",
    "    y=df_labels_train.values,\n",
    "    epochs=50,\n",
    "    batch_size=64,\n",
    "    shuffle=True,\n",
    "    verbose=1,\n",
    "    validation_data=(df_val_scaled.values, df_labels_val.values),\n",
    "    sample_weight=solution\n",
    ")"
   ]
  },
  {
   "cell_type": "code",
   "execution_count": null,
   "metadata": {},
   "outputs": [
    {
     "data": {
      "text/plain": [
       "<Axes: title={'center': 'Hystory Accuracy'}>"
      ]
     },
     "execution_count": 41,
     "metadata": {},
     "output_type": "execute_result"
    },
    {
     "data": {
      "image/png": "[encoded data removed]",
      "text/plain": [
       "<Figure size 1200x400 with 1 Axes>"
      ]
     },
     "metadata": {},
     "output_type": "display_data"
    }
   ],
   "source": [
    "df_hystory = pd.DataFrame(hystory.history)\n",
    "df_hystory[['categorical_accuracy','val_categorical_accuracy']].plot(figsize=(12, 4), title='Hystory Accuracy')"
   ]
  },
  {
   "cell_type": "code",
   "execution_count": null,
   "metadata": {},
   "outputs": [
    {
     "data": {
      "text/plain": [
       "<Axes: title={'center': 'Hystory Loss'}>"
      ]
     },
     "execution_count": 42,
     "metadata": {},
     "output_type": "execute_result"
    },
    {
     "data": {
      "image/png": "[encoded data removed]",
      "text/plain": [
       "<Figure size 1200x400 with 1 Axes>"
      ]
     },
     "metadata": {},
     "output_type": "display_data"
    }
   ],
   "source": [
    "df_hystory[['loss','val_loss']].plot(figsize=(12, 4), title='Hystory Loss')"
   ]
  },
  {
   "cell_type": "code",
   "execution_count": null,
   "metadata": {},
   "outputs": [
    {
     "name": "stdout",
     "output_type": "stream",
     "text": [
      "40/40 [==============================] - 0s 1ms/step\n"
     ]
    },
    {
     "data": {
      "text/html": [
       "<div>\n",
       "<style scoped>\n",
       "    .dataframe tbody tr th:only-of-type {\n",
       "        vertical-align: middle;\n",
       "    }\n",
       "\n",
       "    .dataframe tbody tr th {\n",
       "        vertical-align: top;\n",
       "    }\n",
       "\n",
       "    .dataframe thead th {\n",
       "        text-align: right;\n",
       "    }\n",
       "</style>\n",
       "<table border=\"1\" class=\"dataframe\">\n",
       "  <thead>\n",
       "    <tr style=\"text-align: right;\">\n",
       "      <th></th>\n",
       "      <th>NonDemented</th>\n",
       "      <th>VeryMildDemented</th>\n",
       "      <th>MildDemented</th>\n",
       "      <th>ModerateDemented</th>\n",
       "    </tr>\n",
       "  </thead>\n",
       "  <tbody>\n",
       "    <tr>\n",
       "      <th>0</th>\n",
       "      <td>0.048710</td>\n",
       "      <td>0.602620</td>\n",
       "      <td>0.286441</td>\n",
       "      <td>0.062229</td>\n",
       "    </tr>\n",
       "    <tr>\n",
       "      <th>1</th>\n",
       "      <td>0.048710</td>\n",
       "      <td>0.602618</td>\n",
       "      <td>0.286442</td>\n",
       "      <td>0.062230</td>\n",
       "    </tr>\n",
       "    <tr>\n",
       "      <th>2</th>\n",
       "      <td>0.048704</td>\n",
       "      <td>0.602648</td>\n",
       "      <td>0.286423</td>\n",
       "      <td>0.062225</td>\n",
       "    </tr>\n",
       "    <tr>\n",
       "      <th>3</th>\n",
       "      <td>0.048705</td>\n",
       "      <td>0.602644</td>\n",
       "      <td>0.286426</td>\n",
       "      <td>0.062225</td>\n",
       "    </tr>\n",
       "    <tr>\n",
       "      <th>4</th>\n",
       "      <td>0.048711</td>\n",
       "      <td>0.602617</td>\n",
       "      <td>0.286443</td>\n",
       "      <td>0.062230</td>\n",
       "    </tr>\n",
       "    <tr>\n",
       "      <th>...</th>\n",
       "      <td>...</td>\n",
       "      <td>...</td>\n",
       "      <td>...</td>\n",
       "      <td>...</td>\n",
       "    </tr>\n",
       "    <tr>\n",
       "      <th>1274</th>\n",
       "      <td>0.048710</td>\n",
       "      <td>0.602616</td>\n",
       "      <td>0.286444</td>\n",
       "      <td>0.062230</td>\n",
       "    </tr>\n",
       "    <tr>\n",
       "      <th>1275</th>\n",
       "      <td>0.048704</td>\n",
       "      <td>0.602649</td>\n",
       "      <td>0.286422</td>\n",
       "      <td>0.062224</td>\n",
       "    </tr>\n",
       "    <tr>\n",
       "      <th>1276</th>\n",
       "      <td>0.048707</td>\n",
       "      <td>0.602633</td>\n",
       "      <td>0.286432</td>\n",
       "      <td>0.062227</td>\n",
       "    </tr>\n",
       "    <tr>\n",
       "      <th>1277</th>\n",
       "      <td>0.048710</td>\n",
       "      <td>0.602621</td>\n",
       "      <td>0.286440</td>\n",
       "      <td>0.062229</td>\n",
       "    </tr>\n",
       "    <tr>\n",
       "      <th>1278</th>\n",
       "      <td>0.048712</td>\n",
       "      <td>0.602611</td>\n",
       "      <td>0.286446</td>\n",
       "      <td>0.062231</td>\n",
       "    </tr>\n",
       "  </tbody>\n",
       "</table>\n",
       "<p>1279 rows × 4 columns</p>\n",
       "</div>"
      ],
      "text/plain": [
       "      NonDemented  VeryMildDemented  MildDemented  ModerateDemented\n",
       "0        0.048710          0.602620      0.286441          0.062229\n",
       "1        0.048710          0.602618      0.286442          0.062230\n",
       "2        0.048704          0.602648      0.286423          0.062225\n",
       "3        0.048705          0.602644      0.286426          0.062225\n",
       "4        0.048711          0.602617      0.286443          0.062230\n",
       "...           ...               ...           ...               ...\n",
       "1274     0.048710          0.602616      0.286444          0.062230\n",
       "1275     0.048704          0.602649      0.286422          0.062224\n",
       "1276     0.048707          0.602633      0.286432          0.062227\n",
       "1277     0.048710          0.602621      0.286440          0.062229\n",
       "1278     0.048712          0.602611      0.286446          0.062231\n",
       "\n",
       "[1279 rows x 4 columns]"
      ]
     },
     "execution_count": 43,
     "metadata": {},
     "output_type": "execute_result"
    }
   ],
   "source": [
    "predictions = model.predict(X_test)\n",
    "df_predictions = pd.DataFrame(predictions, columns=['NonDemented', 'VeryMildDemented', 'MildDemented', \"ModerateDemented\"])\n",
    "df_predictions"
   ]
  },
  {
   "cell_type": "code",
   "execution_count": null,
   "metadata": {},
   "outputs": [
    {
     "data": {
      "text/plain": [
       "array(['VeryMildDemented', 'VeryMildDemented', 'VeryMildDemented', ...,\n",
       "       'VeryMildDemented', 'VeryMildDemented', 'VeryMildDemented'],\n",
       "      dtype='<U16')"
      ]
     },
     "execution_count": 44,
     "metadata": {},
     "output_type": "execute_result"
    }
   ],
   "source": [
    "# convert df_predictions to labels\n",
    "labels_predictions = []\n",
    "for i in range(len(df_predictions)):\n",
    "    labels_predictions.append(df_predictions.iloc[i].idxmax())\n",
    "labels_predictions = np.array(labels_predictions)\n",
    "labels_predictions"
   ]
  },
  {
   "cell_type": "code",
   "execution_count": null,
   "metadata": {},
   "outputs": [
    {
     "name": "stdout",
     "output_type": "stream",
     "text": [
      "                  precision    recall  f1-score   support\n",
      "\n",
      "    MildDemented       0.00      0.00      0.00       179\n",
      "ModerateDemented       0.00      0.00      0.00        12\n",
      "     NonDemented       0.00      0.00      0.00       640\n",
      "VeryMildDemented       0.35      1.00      0.52       448\n",
      "\n",
      "        accuracy                           0.35      1279\n",
      "       macro avg       0.09      0.25      0.13      1279\n",
      "    weighted avg       0.12      0.35      0.18      1279\n",
      "\n"
     ]
    },
    {
     "name": "stderr",
     "output_type": "stream",
     "text": [
      "/home/davide/Desktop/Alzheimer_detection/Alzheimer_detection/env/lib/python3.10/site-packages/sklearn/metrics/_classification.py:1469: UndefinedMetricWarning: Precision and F-score are ill-defined and being set to 0.0 in labels with no predicted samples. Use `zero_division` parameter to control this behavior.\n",
      "  _warn_prf(average, modifier, msg_start, len(result))\n",
      "/home/davide/Desktop/Alzheimer_detection/Alzheimer_detection/env/lib/python3.10/site-packages/sklearn/metrics/_classification.py:1469: UndefinedMetricWarning: Precision and F-score are ill-defined and being set to 0.0 in labels with no predicted samples. Use `zero_division` parameter to control this behavior.\n",
      "  _warn_prf(average, modifier, msg_start, len(result))\n",
      "/home/davide/Desktop/Alzheimer_detection/Alzheimer_detection/env/lib/python3.10/site-packages/sklearn/metrics/_classification.py:1469: UndefinedMetricWarning: Precision and F-score are ill-defined and being set to 0.0 in labels with no predicted samples. Use `zero_division` parameter to control this behavior.\n",
      "  _warn_prf(average, modifier, msg_start, len(result))\n"
     ]
    }
   ],
   "source": [
    "# compute classification metrics\n",
    "print(classification_report(labels_test, labels_predictions))"
   ]
  },
  {
   "cell_type": "code",
   "execution_count": null,
   "metadata": {},
   "outputs": [
    {
     "data": {
      "image/png": "[encoded data removed]",
      "text/plain": [
       "<Figure size 1200x700 with 2 Axes>"
      ]
     },
     "metadata": {},
     "output_type": "display_data"
    }
   ],
   "source": [
    "# confusion matrix\n",
    "cm = confusion_matrix(labels_test, labels_predictions, labels=['NonDemented', 'VeryMildDemented', 'MildDemented', \"ModerateDemented\"])\n",
    "plt.figure(figsize=(12,7))\n",
    "sns.heatmap(cm, annot=True, fmt='g', cmap='Greens')\n",
    "plt.xlabel('Predicted')\n",
    "plt.ylabel('True')\n",
    "plt.title('Confusion matrix')\n",
    "plt.xticks(np.arange(4) + 0.5, ['NonDemented', 'VeryMildDemented', 'MildDemented', \"ModerateDemented\"])\n",
    "plt.yticks(np.arange(4) + 0.5, ['NonDemented', 'VeryMildDemented', 'MildDemented', \"ModerateDemented\"])\n",
    "plt.show()"
   ]
  }
 ],
 "metadata": {
  "kernelspec": {
   "display_name": "env",
   "language": "python",
   "name": "python3"
  },
  "language_info": {
   "codemirror_mode": {
    "name": "ipython",
    "version": 3
   },
   "file_extension": ".py",
   "mimetype": "text/x-python",
   "name": "python",
   "nbconvert_exporter": "python",
   "pygments_lexer": "ipython3",
   "version": "3.10.12"
  },
  "orig_nbformat": 4
 },
 "nbformat": 4,
 "nbformat_minor": 2
}
